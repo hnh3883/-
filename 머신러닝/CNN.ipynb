{
 "cells": [
  {
   "cell_type": "code",
   "execution_count": 1,
   "id": "b9ee5b99",
   "metadata": {},
   "outputs": [
    {
     "name": "stderr",
     "output_type": "stream",
     "text": [
      "2023-06-20 14:43:09.698100: I tensorflow/core/util/port.cc:110] oneDNN custom operations are on. You may see slightly different numerical results due to floating-point round-off errors from different computation orders. To turn them off, set the environment variable `TF_ENABLE_ONEDNN_OPTS=0`.\n",
      "2023-06-20 14:43:09.719783: I tensorflow/tsl/cuda/cudart_stub.cc:28] Could not find cuda drivers on your machine, GPU will not be used.\n",
      "2023-06-20 14:43:09.888775: I tensorflow/tsl/cuda/cudart_stub.cc:28] Could not find cuda drivers on your machine, GPU will not be used.\n",
      "2023-06-20 14:43:09.890230: I tensorflow/core/platform/cpu_feature_guard.cc:182] This TensorFlow binary is optimized to use available CPU instructions in performance-critical operations.\n",
      "To enable the following instructions: AVX2 AVX512F AVX512_VNNI FMA, in other operations, rebuild TensorFlow with the appropriate compiler flags.\n",
      "2023-06-20 14:43:10.796812: W tensorflow/compiler/tf2tensorrt/utils/py_utils.cc:38] TF-TRT Warning: Could not find TensorRT\n"
     ]
    }
   ],
   "source": [
    "import numpy as np\n",
    "import tensorflow as tf\n",
    "from tensorflow.keras import Model, layers\n",
    "from tensorflow.keras.models import Sequential\n",
    "import matplotlib.pyplot as plt\n",
    "from sklearn.model_selection import train_test_split"
   ]
  },
  {
   "cell_type": "code",
   "execution_count": 5,
   "id": "b7715c6f",
   "metadata": {},
   "outputs": [
    {
     "name": "stdout",
     "output_type": "stream",
     "text": [
      "(60000, 28, 28)\n",
      "(60000, 28, 28)\n",
      "(50000, 28, 28)\n",
      "(50000,)\n"
     ]
    }
   ],
   "source": [
    "(x_trainval, y_trainval), (x_test,  y_test) = tf.keras.datasets.mnist.load_data()\n",
    "print(x_trainval.shape)\n",
    "print(x_trainval.shape)\n",
    "\n",
    "x_train, x_valid, y_train, y_valid = train_test_split(x_trainval, y_trainval, test_size =1/6, shuffle = True, stratify = y_trainval)\n",
    "\n",
    "print(x_train.shape)\n",
    "print(y_train.shape)"
   ]
  },
  {
   "cell_type": "code",
   "execution_count": 6,
   "id": "8c8abc52",
   "metadata": {},
   "outputs": [
    {
     "data": {
      "text/plain": [
       "<matplotlib.image.AxesImage at 0x7f64b5acafa0>"
      ]
     },
     "execution_count": 6,
     "metadata": {},
     "output_type": "execute_result"
    },
    {
     "data": {
      "image/png": "[encoded data removed]",
      "text/plain": [
       "<Figure size 640x480 with 1 Axes>"
      ]
     },
     "metadata": {},
     "output_type": "display_data"
    }
   ],
   "source": [
    "plt.imshow(x_train[0])"
   ]
  },
  {
   "cell_type": "code",
   "execution_count": 27,
   "id": "da466539",
   "metadata": {},
   "outputs": [],
   "source": [
    "# scale[0,1]\n",
    "x_train, x_valid, x_test = x_train.astype('float32')/255, x_valid.astype('float32')/255, x_test.astype('float32')/255\n",
    "\n",
    "#reshape\n",
    "x_train = x_train.reshape(-1, 28, 28, 1)\n",
    "x_valid = x_valid.reshape(-1, 28, 28, 1)\n",
    "x_test = x_test.reshape(-1, 28, 28, 1)"
   ]
  },
  {
   "cell_type": "code",
   "execution_count": 36,
   "id": "0180dd83",
   "metadata": {},
   "outputs": [],
   "source": [
    "class CNN(Model):\n",
    "    def __init__(self):\n",
    "        super(CNN, self).__init__()\n",
    "        self.conv1 = layers.Conv2D(32, 3, strides=1, padding='same', activation='relu', input_shape=(28,28,1))\n",
    "        self.maxpool1 = layers.MaxPool2D(3, strides=2, padding='same')\n",
    "        self.conv2 = layers.Conv2D(64, 3, strides=1, padding='same', activation='relu')\n",
    "        self.MaxPool2 = layers.MaxPool2D(3, strides=2, padding='same')\n",
    "        self.flatten = layers.Flatten()\n",
    "        self.fc1 = layers.Dense(128, activation='relu')\n",
    "        self.fc2 = layers.Dense(10, activation='softmax')\n",
    "        \n",
    "    def call(self, x):\n",
    "        x = self.conv1(x)\n",
    "        x = self.maxpool1(x)\n",
    "        x = self.conv2(x)\n",
    "        x = self.MaxPool2(x)\n",
    "        x = self.flatten(x)\n",
    "        x = self.fc1(x)\n",
    "        x = self.fc2(x)\n",
    "        \n",
    "        return x"
   ]
  },
  {
   "cell_type": "code",
   "execution_count": 37,
   "id": "c529a47f",
   "metadata": {},
   "outputs": [],
   "source": [
    "data = [x_train, y_train, x_valid, y_valid, x_test, y_test]\n",
    "\n",
    "def train(model, x_train, y_train, x_valid, y_valid, x_test, y_test, epoch = 10, lr = 0.1):\n",
    "    model.compile(loss = 'sparse_categorical_crossentropy', optimizer = tf.keras.optimizers.SGD(learning_rate = lr), metrics=['accuracy'])\n",
    "    result = model.fit(x_train, y_train, epochs = epoch, batch_size = 128, validation_data = (x_valid, y_valid))\n",
    "    test_result = cnn.evaluate(x_test, y_test)\n",
    "    \n",
    "    # visualize\n",
    "    plt.plot(result.history['accuracy'])\n",
    "    plt.plot(result.history['val_accuracy'])\n",
    "    plt.title('CNN ACCURACY')\n",
    "    plt.grid()\n",
    "    plt.legend(['train','validation'], loc = 'best')"
   ]
  },
  {
   "cell_type": "code",
   "execution_count": 38,
   "id": "3780782b",
   "metadata": {},
   "outputs": [],
   "source": [
    "# data = [x_train, y_train, x_valid, y_valid, x_test, y_test]\n",
    "\n",
    "# def train(model, x_train, y_train, x_valid, y_valid, x_test, y_test, epoch = 10, lr = 0.1):\n",
    "#     model.compile(loss = 'sparse_categorical_crossentropy', optimizer = tf.keras.optimizers.SGD(learning_rate = lr), metrics = ['accuracy'])\n",
    "#     result = model.fit(x_train, y_train, epochs = epoch, batch_size = 128, validation_data = (x_valid, y_valid))\n",
    "#     test_result = cnn.evaluate(x_test, y_test)    \n",
    "    \n",
    "    \n",
    "#     plt.plot(result.history['accuracy'])\n",
    "#     plt.plot(result.history['val_accuracy'])\n",
    "#     plt.titlr(\"CNN ACCURACY\")\n",
    "#     plt.grid()\n",
    "#     plt.legend(['train', 'validation'], loc = 'best')"
   ]
  },
  {
   "cell_type": "code",
   "execution_count": 39,
   "id": "3995b03b",
   "metadata": {},
   "outputs": [
    {
     "name": "stdout",
     "output_type": "stream",
     "text": [
      "Epoch 1/10\n",
      "391/391 [==============================] - 12s 29ms/step - loss: 2.3017 - accuracy: 0.1119 - val_loss: 2.3013 - val_accuracy: 0.1124\n",
      "Epoch 2/10\n",
      "391/391 [==============================] - 11s 28ms/step - loss: 2.3015 - accuracy: 0.1124 - val_loss: 2.3015 - val_accuracy: 0.1124\n",
      "Epoch 3/10\n",
      "391/391 [==============================] - 11s 28ms/step - loss: 2.3015 - accuracy: 0.1124 - val_loss: 2.3014 - val_accuracy: 0.1124\n",
      "Epoch 4/10\n",
      "391/391 [==============================] - 11s 28ms/step - loss: 2.3015 - accuracy: 0.1124 - val_loss: 2.3012 - val_accuracy: 0.1124\n",
      "Epoch 5/10\n",
      "391/391 [==============================] - 11s 28ms/step - loss: 2.3014 - accuracy: 0.1124 - val_loss: 2.3015 - val_accuracy: 0.1124\n",
      "Epoch 6/10\n",
      "391/391 [==============================] - 11s 27ms/step - loss: 2.3015 - accuracy: 0.1124 - val_loss: 2.3012 - val_accuracy: 0.1124\n",
      "Epoch 7/10\n",
      "391/391 [==============================] - 11s 28ms/step - loss: 2.3015 - accuracy: 0.1124 - val_loss: 2.3012 - val_accuracy: 0.1124\n",
      "Epoch 8/10\n",
      "391/391 [==============================] - 11s 28ms/step - loss: 2.3014 - accuracy: 0.1124 - val_loss: 2.3013 - val_accuracy: 0.1124\n",
      "Epoch 9/10\n",
      "391/391 [==============================] - 10s 27ms/step - loss: 2.3015 - accuracy: 0.1124 - val_loss: 2.3012 - val_accuracy: 0.1124\n",
      "Epoch 10/10\n",
      "391/391 [==============================] - 11s 28ms/step - loss: 2.3014 - accuracy: 0.1124 - val_loss: 2.3013 - val_accuracy: 0.1124\n",
      "313/313 [==============================] - 2s 6ms/step - loss: 2.2984 - accuracy: 0.0888\n"
     ]
    },
    {
     "data": {
      "image/png": "[encoded data removed]",
      "text/plain": [
       "<Figure size 640x480 with 1 Axes>"
      ]
     },
     "metadata": {},
     "output_type": "display_data"
    }
   ],
   "source": [
    "cnn = CNN()\n",
    "train(cnn, *data)"
   ]
  },
  {
   "cell_type": "code",
   "execution_count": null,
   "id": "0ec4246b",
   "metadata": {},
   "outputs": [],
   "source": []
  },
  {
   "cell_type": "code",
   "execution_count": null,
   "id": "d4fc63eb",
   "metadata": {},
   "outputs": [],
   "source": []
  },
  {
   "cell_type": "code",
   "execution_count": null,
   "id": "5f5f48dc",
   "metadata": {},
   "outputs": [],
   "source": []
  }
 ],
 "metadata": {
  "kernelspec": {
   "display_name": "Python 3 (ipykernel)",
   "language": "python",
   "name": "python3"
  },
  "language_info": {
   "codemirror_mode": {
    "name": "ipython",
    "version": 3
   },
   "file_extension": ".py",
   "mimetype": "text/x-python",
   "name": "python",
   "nbconvert_exporter": "python",
   "pygments_lexer": "ipython3",
   "version": "3.9.16"
  }
 },
 "nbformat": 4,
 "nbformat_minor": 5
}
