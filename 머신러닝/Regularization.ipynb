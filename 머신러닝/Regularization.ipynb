{
 "cells": [
  {
   "cell_type": "code",
   "execution_count": 2,
   "id": "37d1b4ea",
   "metadata": {},
   "outputs": [],
   "source": [
    "import tensorflow as tf\n",
    "from tensorflow.keras import Model, layers, regularizers, initializers\n",
    "import numpy as np\n",
    "from matplotlib import pyplot as plt\n",
    "import random\n",
    "\n",
    "random.seed(5)\n",
    "np.random.seed(5)\n",
    "tf.random.set_seed(5)"
   ]
  },
  {
   "cell_type": "code",
   "execution_count": 3,
   "id": "489f3b39",
   "metadata": {},
   "outputs": [
    {
     "name": "stderr",
     "output_type": "stream",
     "text": [
      "2023-06-19 16:00:18.090087: W tensorflow/core/common_runtime/gpu/gpu_device.cc:1956] Cannot dlopen some GPU libraries. Please make sure the missing libraries mentioned above are installed properly if you would like to use GPU. Follow the guide at https://www.tensorflow.org/install/gpu for how to download and setup the required libraries for your platform.\n",
      "Skipping registering GPU devices...\n"
     ]
    }
   ],
   "source": [
    "(x_trainval, y_trainval), (x_test, y_test) = tf.keras.datasets.mnist.load_data() #mnist 불러오는 코드\n",
    "x_trainval, x_test = tf.cast(x_trainval, tf.float32), tf.cast(x_test, tf.float32) #int (0~255) -> normalization\n",
    "y_trainval, y_test = tf.cast(y_trainval, tf.float32), tf.cast(y_test, tf.float32)\n",
    "\n",
    "num_classes = 10\n",
    "num_features = 784  # 28*28 -> 한 줄로 풀면 784\n",
    "\n",
    "x_trainval, x_test = tf.reshape(x_trainval,[-1, num_features]), tf.reshape(x_test, [-1, num_features]) # (28*28) -> (1,784) \n",
    "x_trainval, x_test = x_trainval / 255., x_test / 255. # 0~255 -> 0~1"
   ]
  },
  {
   "cell_type": "code",
   "execution_count": 4,
   "id": "8a2e6fed",
   "metadata": {},
   "outputs": [],
   "source": [
    "indices = np.random.permutation(x_trainval.shape[0])\n",
    "x_trainval = tf.gather(x_trainval, indices)\n",
    "y_trainval = tf.gather(y_trainval, indices)\n",
    "\n",
    "x_train = x_trainval[:50000]  \n",
    "y_train = y_trainval[:50000]\n",
    "x_val = x_trainval[50000:] \n",
    "y_val = y_trainval[50000:]\n",
    "\n",
    "batch_size = 200\n",
    "train_data = tf.data.Dataset.from_tensor_slices((x_train, y_train))\n",
    "train_data = train_data.shuffle(50000).batch(batch_size).prefetch(1)"
   ]
  },
  {
   "cell_type": "code",
   "execution_count": 5,
   "id": "259bdb57",
   "metadata": {},
   "outputs": [],
   "source": [
    "def cross_entropy_loss(x, y):\n",
    "    y = tf.cast(y, tf.int64)\n",
    "    loss = tf.nn.sparse_softmax_cross_entropy_with_logits(labels=y, logits=x)\n",
    "    return tf.reduce_mean(loss)\n",
    "\n",
    "def accuracy(y_pred, y_true):\n",
    "    correct_prediction = tf.equal(tf.argmax(y_pred, 1), tf.cast(y_true, tf.int64))\n",
    "    return tf.reduce_mean(tf.cast(correct_prediction, tf.float32)).numpy()\n",
    "    \n",
    "def Train_model(model, lr, epo, print_loss=True, plot_graph=True):\n",
    "    step_l = []\n",
    "    loss_l = []\n",
    "    \n",
    "    optimizer = tf.optimizers.SGD(lr, momentum=0.9)\n",
    "    \n",
    "    for epoch in range(1,epo+1):\n",
    "        for step, (batch_x, batch_y) in enumerate(train_data, 1):\n",
    "            with tf.GradientTape() as g:\n",
    "                pred = model(batch_x, is_training=True)\n",
    "                loss = cross_entropy_loss(pred, batch_y)\n",
    "\n",
    "            trainable_variables = model.trainable_variables\n",
    "            gradients = g.gradient(loss, trainable_variables)\n",
    "            optimizer.apply_gradients(zip(gradients, trainable_variables))\n",
    "            \n",
    "            if plot_graph:\n",
    "                if step % 50 == 0:\n",
    "                    step_l.append((epoch-1)*300 + step)\n",
    "                    loss_l.append(loss.numpy())\n",
    "        if print_loss:\n",
    "            acc = accuracy(model(x_test), y_test)\n",
    "            print(\"epoch: \", epoch, \", loss: \", loss.numpy(), \"acc: \", acc)\n",
    "    \n",
    "    if plot_graph:\n",
    "        plt.plot(step_l, loss_l)\n",
    "    return model"
   ]
  },
  {
   "cell_type": "code",
   "execution_count": 6,
   "id": "3239c0b1",
   "metadata": {},
   "outputs": [],
   "source": [
    "class NeuralNet(Model): # Regularization skill을 추가하지 않은 기본 뉴럴네트워크 구조\n",
    "    def __init__(self):\n",
    "        super(NeuralNet, self).__init__()\n",
    "        self.fc1 = layers.Dense(128, kernel_initializer = initializers.GlorotNormal())\n",
    "        self.bn1 = layers.BatchNormalization()\n",
    "        self.ac1 = layers.Activation(tf.nn.relu)\n",
    "        self.fc2 = layers.Dense(256, kernel_initializer = initializers.GlorotNormal())\n",
    "        self.bn2 = layers.BatchNormalization()\n",
    "        self.ac2 = layers.Activation(tf.nn.relu)\n",
    "        self.out = layers.Dense(num_classes, kernel_initializer = initializers.GlorotNormal())\n",
    "\n",
    "    def call(self, x, is_training=False):\n",
    "        x = self.fc1(x)\n",
    "        x = self.bn1(x, training=is_training)\n",
    "        x = self.ac1(x)\n",
    "        x = self.fc2(x)\n",
    "        x = self.bn2(x, training=is_training)\n",
    "        x = self.ac2(x)\n",
    "        x = self.out(x)\n",
    "        if not is_training:\n",
    "            x = tf.nn.softmax(x)\n",
    "        return x"
   ]
  },
  {
   "cell_type": "code",
   "execution_count": 8,
   "id": "b20ccb80",
   "metadata": {},
   "outputs": [],
   "source": [
    "#Early stopping\n",
    "\n",
    "import sys\n",
    "import copy\n",
    "\n",
    "val_data = tf.data.Dataset.from_tensor_slices((x_val,y_val))\n",
    "val_data = val_data.shuffle(10000).batch(batch_size).prefetch(1)\n",
    "\n",
    "def early_stopping(model, lr):\n",
    "    # plot 하기 위해 씀\n",
    "    el = []\n",
    "    vll = []\n",
    "    \n",
    "    # 얼마나 참을 건지 - 5번까지 로스 증가는 괜찮, 6번부터 로스 증가하면 학습중단\n",
    "    p = 5 #patience\n",
    "    \n",
    "    i = 0 # epoch\n",
    "    j = 0 # 현재 참은 횟수\n",
    "    v = sys.float_info.max #\n",
    "    \n",
    "    models = copy.deepcopy(model) # 제일 좋은 모델\n",
    "    \n",
    "    i_s = i\n",
    "    \n",
    "    while j < p:\n",
    "        Train_model(model, lr, 1, print_loss=False, plot_graph=False)\n",
    "        \n",
    "        acc = accuracy(model(x_val), y_val) * 100\n",
    "        tmp_v = 100 -acc # 현재 모델의 에러 EX) 80 -> TMP_V 20 ---> 79  -> 21\n",
    "        i += 1 # epoch\n",
    "        \n",
    "        print(\"epoch reached\", i , 'current validation error', tmp_v, 'smallest error', v)\n",
    "        \n",
    "        el.append(i)\n",
    "        vll.append(tmp_v)\n",
    "        \n",
    "        if tmp_v < v: # 모델이 잘 학습되고 있음\n",
    "            j = 0 # 참은 횟수 초기화\n",
    "            model_s = copy.deepcopy(model) # 제일 좋은 모델 저장\n",
    "            i_s = i # 가장 좋은 epoch (best epoch)\n",
    "            v = tmp_v # smallest error\n",
    "        else:\n",
    "            j += 1 # 참은 횟수 증가\n",
    "    plt.plot(el, vll) # \n",
    "    print('best epoch', i_s)\n",
    "    return model_s, i_s"
   ]
  },
  {
   "cell_type": "code",
   "execution_count": 9,
   "id": "e8b9faea",
   "metadata": {},
   "outputs": [
    {
     "name": "stderr",
     "output_type": "stream",
     "text": [
      "2023-06-19 16:25:52.710296: I tensorflow/core/common_runtime/executor.cc:1197] [/device:CPU:0] (DEBUG INFO) Executor start aborting (this does not indicate an error and you can ignore this message): INVALID_ARGUMENT: You must feed a value for placeholder tensor 'Placeholder/_1' with dtype float and shape [50000]\n",
      "\t [[{{node Placeholder/_1}}]]\n"
     ]
    },
    {
     "name": "stdout",
     "output_type": "stream",
     "text": [
      "epoch reached 1 current validation error 5.449998378753662 smallest error 1.7976931348623157e+308\n",
      "epoch reached 2 current validation error 3.7199974060058594 smallest error 5.449998378753662\n",
      "epoch reached 3 current validation error 3.329998254776001 smallest error 3.7199974060058594\n",
      "epoch reached 4 current validation error 2.8400003910064697 smallest error 3.329998254776001\n",
      "epoch reached 5 current validation error 3.0300021171569824 smallest error 2.8400003910064697\n",
      "epoch reached 6 current validation error 2.8199970722198486 smallest error 2.8400003910064697\n",
      "epoch reached 7 current validation error 2.6099979877471924 smallest error 2.8199970722198486\n",
      "epoch reached 8 current validation error 2.5399982929229736 smallest error 2.6099979877471924\n",
      "epoch reached 9 current validation error 2.5300025939941406 smallest error 2.5399982929229736\n",
      "epoch reached 10 current validation error 2.4299979209899902 smallest error 2.5300025939941406\n",
      "epoch reached 11 current validation error 2.4800002574920654 smallest error 2.4299979209899902\n",
      "epoch reached 12 current validation error 2.340000867843628 smallest error 2.4299979209899902\n",
      "epoch reached 13 current validation error 2.319997549057007 smallest error 2.340000867843628\n",
      "epoch reached 14 current validation error 2.4100005626678467 smallest error 2.319997549057007\n",
      "epoch reached 15 current validation error 2.3299992084503174 smallest error 2.319997549057007\n",
      "epoch reached 16 current validation error 2.2800028324127197 smallest error 2.319997549057007\n",
      "epoch reached 17 current validation error 2.3299992084503174 smallest error 2.2800028324127197\n",
      "epoch reached 18 current validation error 2.240002155303955 smallest error 2.2800028324127197\n",
      "epoch reached 19 current validation error 2.3599982261657715 smallest error 2.240002155303955\n",
      "epoch reached 20 current validation error 2.319997549057007 smallest error 2.240002155303955\n",
      "epoch reached 21 current validation error 2.2800028324127197 smallest error 2.240002155303955\n",
      "epoch reached 22 current validation error 2.369999885559082 smallest error 2.240002155303955\n",
      "epoch reached 23 current validation error 2.219998836517334 smallest error 2.240002155303955\n",
      "epoch reached 24 current validation error 2.3599982261657715 smallest error 2.219998836517334\n",
      "epoch reached 25 current validation error 2.240002155303955 smallest error 2.219998836517334\n",
      "epoch reached 26 current validation error 2.249997854232788 smallest error 2.219998836517334\n",
      "epoch reached 27 current validation error 2.2599995136260986 smallest error 2.219998836517334\n",
      "epoch reached 28 current validation error 2.2899985313415527 smallest error 2.219998836517334\n",
      "best epoch 23\n"
     ]
    },
    {
     "data": {
      "image/png": "[encoded data removed]",
      "text/plain": [
       "<Figure size 640x480 with 1 Axes>"
      ]
     },
     "metadata": {},
     "output_type": "display_data"
    }
   ],
   "source": [
    "neural_net = NeuralNet()\n",
    "neural_net, best_epoch = early_stopping(neural_net, 0.01)"
   ]
  },
  {
   "cell_type": "code",
   "execution_count": 24,
   "id": "ed344269",
   "metadata": {},
   "outputs": [],
   "source": [
    "#weight decay\n",
    "class WD_NeuralNet(Model): # Regularization skill을 추가하지 않은 기본 뉴럴네트워크 구조\n",
    "    def __init__(self):\n",
    "        super(WD_NeuralNet, self).__init__()\n",
    "        self.fc1 = layers.Dense(128, kernel_initializer = initializers.GlorotNormal(), kernel_regularizer = regularizers.l2(0.01))\n",
    "        self.bn1 = layers.BatchNormalization()\n",
    "        self.ac1 = layers.Activation(tf.nn.relu)\n",
    "        self.fc2 = layers.Dense(256, kernel_initializer = initializers.GlorotNormal(), kernel_regularizer = regularizers.l2(0.01))\n",
    "        self.bn2 = layers.BatchNormalization()\n",
    "        self.ac2 = layers.Activation(tf.nn.relu)\n",
    "        self.out = layers.Dense(num_classes, kernel_initializer = initializers.GlorotNormal(), kernel_regularizer = regularizers.l2(0.01))\n",
    "\n",
    "    def call(self, x, is_training=False):\n",
    "        x = self.fc1(x)\n",
    "        x = self.bn1(x, training=is_training)\n",
    "        x = self.ac1(x)\n",
    "        x = self.fc2(x)\n",
    "        x = self.bn2(x, training=is_training)\n",
    "        x = self.ac2(x)\n",
    "        x = self.out(x)\n",
    "        if not is_training:\n",
    "            x = tf.nn.softmax(x)\n",
    "        return x"
   ]
  },
  {
   "cell_type": "code",
   "execution_count": 25,
   "id": "5ea1c232",
   "metadata": {},
   "outputs": [
    {
     "name": "stdout",
     "output_type": "stream",
     "text": [
      "epoch reached 1 current validation error 5.199998617172241 smallest error 1.7976931348623157e+308\n",
      "epoch reached 2 current validation error 3.780001401901245 smallest error 5.199998617172241\n",
      "epoch reached 3 current validation error 3.2400012016296387 smallest error 3.780001401901245\n",
      "epoch reached 4 current validation error 2.999997138977051 smallest error 3.2400012016296387\n",
      "epoch reached 5 current validation error 2.770000696182251 smallest error 2.999997138977051\n",
      "epoch reached 6 current validation error 2.8400003910064697 smallest error 2.770000696182251\n",
      "epoch reached 7 current validation error 2.619999647140503 smallest error 2.770000696182251\n",
      "epoch reached 8 current validation error 2.469998598098755 smallest error 2.619999647140503\n",
      "epoch reached 9 current validation error 2.369999885559082 smallest error 2.469998598098755\n",
      "epoch reached 10 current validation error 2.4200022220611572 smallest error 2.369999885559082\n",
      "epoch reached 11 current validation error 2.52000093460083 smallest error 2.369999885559082\n",
      "epoch reached 12 current validation error 2.549999952316284 smallest error 2.369999885559082\n",
      "epoch reached 13 current validation error 2.4200022220611572 smallest error 2.369999885559082\n",
      "epoch reached 14 current validation error 2.4200022220611572 smallest error 2.369999885559082\n",
      "best epoch 9\n"
     ]
    },
    {
     "data": {
      "image/png": "[encoded data removed]",
      "text/plain": [
       "<Figure size 640x480 with 1 Axes>"
      ]
     },
     "metadata": {},
     "output_type": "display_data"
    }
   ],
   "source": [
    "wd_nn = WD_NeuralNet()\n",
    "wd_nn, wd_best_epoch = early_stopping(wd_nn, 0.01)"
   ]
  },
  {
   "cell_type": "code",
   "execution_count": 26,
   "id": "85d4f6d8",
   "metadata": {},
   "outputs": [],
   "source": [
    "# drop out\n",
    "class DO_NeuralNet(Model): # Regularization skill을 추가하지 않은 기본 뉴럴네트워크 구조\n",
    "    def __init__(self):\n",
    "        super(DO_NeuralNet, self).__init__()\n",
    "        self.fc1 = layers.Dense(128, kernel_initializer = initializers.GlorotNormal(), kernel_regularizer = regularizers.l2(0.01))\n",
    "        self.bn1 = layers.BatchNormalization()\n",
    "        self.ac1 = layers.Activation(tf.nn.relu)\n",
    "        self.do1 = layers.Dropout(rate=0.5)\n",
    "        self.fc2 = layers.Dense(256, kernel_initializer = initializers.GlorotNormal(), kernel_regularizer = regularizers.l2(0.01))\n",
    "        self.bn2 = layers.BatchNormalization()\n",
    "        self.ac2 = layers.Activation(tf.nn.relu)\n",
    "        self.do2 = layers.Dropout(rate=0.5)\n",
    "        self.out = layers.Dense(num_classes, kernel_initializer = initializers.GlorotNormal(), kernel_regularizer = regularizers.l2(0.01))\n",
    "\n",
    "    def call(self, x, is_training=False):\n",
    "        x = self.fc1(x)\n",
    "        x = self.bn1(x, training=is_training)\n",
    "        x = self.ac1(x)\n",
    "        x = self.do1(x, training=is_training)\n",
    "        x = self.fc2(x)\n",
    "        x = self.bn2(x, training=is_training)\n",
    "        x = self.ac2(x)\n",
    "        x = self.do2(x, training=is_training)\n",
    "        x = self.out(x)\n",
    "        if not is_training:\n",
    "            x = tf.nn.softmax(x)\n",
    "        return x"
   ]
  },
  {
   "cell_type": "code",
   "execution_count": 27,
   "id": "e05fed9c",
   "metadata": {},
   "outputs": [
    {
     "name": "stdout",
     "output_type": "stream",
     "text": [
      "epoch reached 1 current validation error 8.459997177124023 smallest error 1.7976931348623157e+308\n",
      "epoch reached 2 current validation error 6.870001554489136 smallest error 8.459997177124023\n",
      "epoch reached 3 current validation error 5.970001220703125 smallest error 6.870001554489136\n",
      "epoch reached 4 current validation error 5.330002307891846 smallest error 5.970001220703125\n",
      "epoch reached 5 current validation error 5.059999227523804 smallest error 5.330002307891846\n",
      "epoch reached 6 current validation error 4.699999094009399 smallest error 5.059999227523804\n",
      "epoch reached 7 current validation error 4.439997673034668 smallest error 4.699999094009399\n",
      "epoch reached 8 current validation error 4.2999982833862305 smallest error 4.439997673034668\n",
      "epoch reached 9 current validation error 4.100000858306885 smallest error 4.2999982833862305\n",
      "epoch reached 10 current validation error 3.880000114440918 smallest error 4.100000858306885\n",
      "epoch reached 11 current validation error 3.789997100830078 smallest error 3.880000114440918\n",
      "epoch reached 12 current validation error 3.630000352859497 smallest error 3.789997100830078\n",
      "epoch reached 13 current validation error 3.530001640319824 smallest error 3.630000352859497\n",
      "epoch reached 14 current validation error 3.359997272491455 smallest error 3.530001640319824\n",
      "epoch reached 15 current validation error 3.299999237060547 smallest error 3.359997272491455\n",
      "epoch reached 16 current validation error 3.2800018787384033 smallest error 3.299999237060547\n",
      "epoch reached 17 current validation error 3.200000524520874 smallest error 3.2800018787384033\n",
      "epoch reached 18 current validation error 3.0900001525878906 smallest error 3.200000524520874\n",
      "epoch reached 19 current validation error 3.2400012016296387 smallest error 3.0900001525878906\n",
      "epoch reached 20 current validation error 3.0399978160858154 smallest error 3.0900001525878906\n",
      "epoch reached 21 current validation error 2.9799997806549072 smallest error 3.0399978160858154\n",
      "epoch reached 22 current validation error 2.7800023555755615 smallest error 2.9799997806549072\n",
      "epoch reached 23 current validation error 2.7599990367889404 smallest error 2.7800023555755615\n",
      "epoch reached 24 current validation error 2.7300000190734863 smallest error 2.7599990367889404\n",
      "epoch reached 25 current validation error 2.7599990367889404 smallest error 2.7300000190734863\n",
      "epoch reached 26 current validation error 2.719998359680176 smallest error 2.7300000190734863\n",
      "epoch reached 27 current validation error 2.8199970722198486 smallest error 2.719998359680176\n",
      "epoch reached 28 current validation error 2.6600003242492676 smallest error 2.719998359680176\n",
      "epoch reached 29 current validation error 2.6600003242492676 smallest error 2.6600003242492676\n",
      "epoch reached 30 current validation error 2.719998359680176 smallest error 2.6600003242492676\n",
      "epoch reached 31 current validation error 2.649998664855957 smallest error 2.6600003242492676\n",
      "epoch reached 32 current validation error 2.5399982929229736 smallest error 2.649998664855957\n",
      "epoch reached 33 current validation error 2.649998664855957 smallest error 2.5399982929229736\n",
      "epoch reached 34 current validation error 2.670001983642578 smallest error 2.5399982929229736\n",
      "epoch reached 35 current validation error 2.7100026607513428 smallest error 2.5399982929229736\n",
      "epoch reached 36 current validation error 2.649998664855957 smallest error 2.5399982929229736\n",
      "epoch reached 37 current validation error 2.5699973106384277 smallest error 2.5399982929229736\n",
      "best epoch 32\n"
     ]
    },
    {
     "data": {
      "image/png": "[encoded data removed]",
      "text/plain": [
       "<Figure size 640x480 with 1 Axes>"
      ]
     },
     "metadata": {},
     "output_type": "display_data"
    }
   ],
   "source": [
    "do_nn = DO_NeuralNet()\n",
    "do_nn, do_best_epoch = early_stopping(do_nn, 0.01)"
   ]
  },
  {
   "cell_type": "code",
   "execution_count": null,
   "id": "6d6f7c22",
   "metadata": {},
   "outputs": [],
   "source": []
  }
 ],
 "metadata": {
  "kernelspec": {
   "display_name": "Python 3 (ipykernel)",
   "language": "python",
   "name": "python3"
  },
  "language_info": {
   "codemirror_mode": {
    "name": "ipython",
    "version": 3
   },
   "file_extension": ".py",
   "mimetype": "text/x-python",
   "name": "python",
   "nbconvert_exporter": "python",
   "pygments_lexer": "ipython3",
   "version": "3.9.16"
  }
 },
 "nbformat": 4,
 "nbformat_minor": 5
}
