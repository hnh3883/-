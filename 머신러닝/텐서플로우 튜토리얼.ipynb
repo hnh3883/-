{
 "cells": [
  {
   "cell_type": "code",
   "execution_count": 5,
   "id": "536dc4c4",
   "metadata": {},
   "outputs": [
    {
     "name": "stdout",
     "output_type": "stream",
     "text": [
      "Requirement already satisfied: tensorflow in /home/piai/anaconda3/envs/ml/lib/python3.9/site-packages (2.4.1)\n",
      "Collecting absl-py~=0.10 (from tensorflow)\n",
      "  Downloading absl_py-0.15.0-py3-none-any.whl (132 kB)\n",
      "\u001b[2K     \u001b[38;2;114;156;31m━━━━━━━━━━━━━━━━━━━━━━━━━━━━━━━━━━━━━━━\u001b[0m \u001b[32m132.0/132.0 kB\u001b[0m \u001b[31m6.5 MB/s\u001b[0m eta \u001b[36m0:00:00\u001b[0m\n",
      "\u001b[?25hRequirement already satisfied: astunparse~=1.6.3 in /home/piai/anaconda3/envs/ml/lib/python3.9/site-packages (from tensorflow) (1.6.3)\n",
      "Collecting flatbuffers~=1.12.0 (from tensorflow)\n",
      "  Downloading flatbuffers-1.12-py2.py3-none-any.whl (15 kB)\n",
      "Requirement already satisfied: google-pasta~=0.2 in /home/piai/anaconda3/envs/ml/lib/python3.9/site-packages (from tensorflow) (0.2.0)\n",
      "Requirement already satisfied: h5py~=2.10.0 in /home/piai/anaconda3/envs/ml/lib/python3.9/site-packages (from tensorflow) (2.10.0)\n",
      "Requirement already satisfied: keras-preprocessing~=1.1.2 in /home/piai/anaconda3/envs/ml/lib/python3.9/site-packages (from tensorflow) (1.1.2)\n",
      "Collecting numpy~=1.19.2 (from tensorflow)\n",
      "  Downloading numpy-1.19.5-cp39-cp39-manylinux2010_x86_64.whl (14.9 MB)\n",
      "\u001b[2K     \u001b[38;2;114;156;31m━━━━━━━━━━━━━━━━━━━━━━━━━━━━━━━━━━━━━━━━\u001b[0m \u001b[32m14.9/14.9 MB\u001b[0m \u001b[31m22.7 MB/s\u001b[0m eta \u001b[36m0:00:00\u001b[0mm eta \u001b[36m0:00:01\u001b[0m[36m0:00:01\u001b[0m\n",
      "\u001b[?25hRequirement already satisfied: opt-einsum~=3.3.0 in /home/piai/anaconda3/envs/ml/lib/python3.9/site-packages (from tensorflow) (3.3.0)\n",
      "Requirement already satisfied: protobuf>=3.9.2 in /home/piai/anaconda3/envs/ml/lib/python3.9/site-packages (from tensorflow) (3.20.3)\n",
      "Collecting six~=1.15.0 (from tensorflow)\n",
      "  Downloading six-1.15.0-py2.py3-none-any.whl (10 kB)\n",
      "Collecting termcolor~=1.1.0 (from tensorflow)\n",
      "  Downloading termcolor-1.1.0.tar.gz (3.9 kB)\n",
      "  Preparing metadata (setup.py) ... \u001b[?25ldone\n",
      "\u001b[?25hCollecting typing-extensions~=3.7.4 (from tensorflow)\n",
      "  Downloading typing_extensions-3.7.4.3-py3-none-any.whl (22 kB)\n",
      "Requirement already satisfied: wheel~=0.35 in /home/piai/anaconda3/envs/ml/lib/python3.9/site-packages (from tensorflow) (0.38.4)\n",
      "Collecting wrapt~=1.12.1 (from tensorflow)\n",
      "  Downloading wrapt-1.12.1.tar.gz (27 kB)\n",
      "  Preparing metadata (setup.py) ... \u001b[?25ldone\n",
      "\u001b[?25hCollecting gast==0.3.3 (from tensorflow)\n",
      "  Downloading gast-0.3.3-py2.py3-none-any.whl (9.7 kB)\n",
      "Requirement already satisfied: tensorboard~=2.4 in /home/piai/anaconda3/envs/ml/lib/python3.9/site-packages (from tensorflow) (2.10.0)\n",
      "Collecting tensorflow-estimator<2.5.0,>=2.4.0 (from tensorflow)\n",
      "  Downloading tensorflow_estimator-2.4.0-py2.py3-none-any.whl (462 kB)\n",
      "\u001b[2K     \u001b[38;2;114;156;31m━━━━━━━━━━━━━━━━━━━━━━━━━━━━━━━━━━━━━━\u001b[0m \u001b[32m462.0/462.0 kB\u001b[0m \u001b[31m21.3 MB/s\u001b[0m eta \u001b[36m0:00:00\u001b[0m\n",
      "\u001b[?25hCollecting grpcio~=1.32.0 (from tensorflow)\n",
      "  Downloading grpcio-1.32.0.tar.gz (20.8 MB)\n",
      "\u001b[2K     \u001b[38;2;114;156;31m━━━━━━━━━━━━━━━━━━━━━━━━━━━━━━━━━━━━━━━━\u001b[0m \u001b[32m20.8/20.8 MB\u001b[0m \u001b[31m22.1 MB/s\u001b[0m eta \u001b[36m0:00:00\u001b[0mm eta \u001b[36m0:00:01\u001b[0m[36m0:00:01\u001b[0m\n",
      "\u001b[?25h  Preparing metadata (setup.py) ... \u001b[?25ldone\n",
      "\u001b[?25hRequirement already satisfied: google-auth<3,>=1.6.3 in /home/piai/anaconda3/envs/ml/lib/python3.9/site-packages (from tensorboard~=2.4->tensorflow) (2.6.0)\n",
      "Requirement already satisfied: google-auth-oauthlib<0.5,>=0.4.1 in /home/piai/anaconda3/envs/ml/lib/python3.9/site-packages (from tensorboard~=2.4->tensorflow) (0.4.4)\n",
      "Requirement already satisfied: markdown>=2.6.8 in /home/piai/anaconda3/envs/ml/lib/python3.9/site-packages (from tensorboard~=2.4->tensorflow) (3.4.1)\n",
      "Collecting protobuf>=3.9.2 (from tensorflow)\n",
      "  Downloading protobuf-3.19.6-cp39-cp39-manylinux_2_17_x86_64.manylinux2014_x86_64.whl (1.1 MB)\n",
      "\u001b[2K     \u001b[38;2;114;156;31m━━━━━━━━━━━━━━━━━━━━━━━━━━━━━━━━━━━━━━━━\u001b[0m \u001b[32m1.1/1.1 MB\u001b[0m \u001b[31m21.4 MB/s\u001b[0m eta \u001b[36m0:00:00\u001b[0m[36m0:00:01\u001b[0m\n",
      "\u001b[?25hRequirement already satisfied: requests<3,>=2.21.0 in /home/piai/anaconda3/envs/ml/lib/python3.9/site-packages (from tensorboard~=2.4->tensorflow) (2.28.1)\n",
      "Requirement already satisfied: setuptools>=41.0.0 in /home/piai/anaconda3/envs/ml/lib/python3.9/site-packages (from tensorboard~=2.4->tensorflow) (67.8.0)\n",
      "Requirement already satisfied: tensorboard-data-server<0.7.0,>=0.6.0 in /home/piai/anaconda3/envs/ml/lib/python3.9/site-packages (from tensorboard~=2.4->tensorflow) (0.6.1)\n",
      "Requirement already satisfied: tensorboard-plugin-wit>=1.6.0 in /home/piai/anaconda3/envs/ml/lib/python3.9/site-packages (from tensorboard~=2.4->tensorflow) (1.8.1)\n",
      "Requirement already satisfied: werkzeug>=1.0.1 in /home/piai/anaconda3/envs/ml/lib/python3.9/site-packages (from tensorboard~=2.4->tensorflow) (2.2.2)\n",
      "Requirement already satisfied: cachetools<6.0,>=2.0.0 in /home/piai/anaconda3/envs/ml/lib/python3.9/site-packages (from google-auth<3,>=1.6.3->tensorboard~=2.4->tensorflow) (4.2.2)\n",
      "Requirement already satisfied: pyasn1-modules>=0.2.1 in /home/piai/anaconda3/envs/ml/lib/python3.9/site-packages (from google-auth<3,>=1.6.3->tensorboard~=2.4->tensorflow) (0.2.8)\n",
      "Requirement already satisfied: rsa<5,>=3.1.4 in /home/piai/anaconda3/envs/ml/lib/python3.9/site-packages (from google-auth<3,>=1.6.3->tensorboard~=2.4->tensorflow) (4.7.2)\n",
      "Requirement already satisfied: requests-oauthlib>=0.7.0 in /home/piai/anaconda3/envs/ml/lib/python3.9/site-packages (from google-auth-oauthlib<0.5,>=0.4.1->tensorboard~=2.4->tensorflow) (1.3.0)\n",
      "Requirement already satisfied: importlib-metadata>=4.4 in /home/piai/anaconda3/envs/ml/lib/python3.9/site-packages (from markdown>=2.6.8->tensorboard~=2.4->tensorflow) (4.11.3)\n",
      "Requirement already satisfied: charset-normalizer<3,>=2 in /home/piai/anaconda3/envs/ml/lib/python3.9/site-packages (from requests<3,>=2.21.0->tensorboard~=2.4->tensorflow) (2.0.4)\n",
      "Requirement already satisfied: idna<4,>=2.5 in /home/piai/anaconda3/envs/ml/lib/python3.9/site-packages (from requests<3,>=2.21.0->tensorboard~=2.4->tensorflow) (3.4)\n",
      "Requirement already satisfied: urllib3<1.27,>=1.21.1 in /home/piai/anaconda3/envs/ml/lib/python3.9/site-packages (from requests<3,>=2.21.0->tensorboard~=2.4->tensorflow) (1.26.14)\n",
      "Requirement already satisfied: certifi>=2017.4.17 in /home/piai/anaconda3/envs/ml/lib/python3.9/site-packages (from requests<3,>=2.21.0->tensorboard~=2.4->tensorflow) (2023.5.7)\n",
      "Requirement already satisfied: MarkupSafe>=2.1.1 in /home/piai/anaconda3/envs/ml/lib/python3.9/site-packages (from werkzeug>=1.0.1->tensorboard~=2.4->tensorflow) (2.1.1)\n",
      "Requirement already satisfied: zipp>=0.5 in /home/piai/anaconda3/envs/ml/lib/python3.9/site-packages (from importlib-metadata>=4.4->markdown>=2.6.8->tensorboard~=2.4->tensorflow) (3.11.0)\n",
      "Requirement already satisfied: pyasn1<0.5.0,>=0.4.6 in /home/piai/anaconda3/envs/ml/lib/python3.9/site-packages (from pyasn1-modules>=0.2.1->google-auth<3,>=1.6.3->tensorboard~=2.4->tensorflow) (0.4.8)\n",
      "Requirement already satisfied: oauthlib>=3.0.0 in /home/piai/anaconda3/envs/ml/lib/python3.9/site-packages (from requests-oauthlib>=0.7.0->google-auth-oauthlib<0.5,>=0.4.1->tensorboard~=2.4->tensorflow) (3.2.1)\n",
      "Building wheels for collected packages: grpcio, termcolor, wrapt\n",
      "  Building wheel for grpcio (setup.py) ... \u001b[?25ldone\n",
      "\u001b[?25h  Created wheel for grpcio: filename=grpcio-1.32.0-cp39-cp39-linux_x86_64.whl size=3436763 sha256=d999f18f5e90bbfde4212a04305e861abcbaff8183e0d561c5292510eeb1f244\n",
      "  Stored in directory: /home/piai/.cache/pip/wheels/28/95/38/61aa534c5c1a6f5d4af386f1ac4cafa4828c306660e4c861db\n",
      "  Building wheel for termcolor (setup.py) ... \u001b[?25ldone\n",
      "\u001b[?25h  Created wheel for termcolor: filename=termcolor-1.1.0-py3-none-any.whl size=4832 sha256=ceeed6a539882d3acb79d3e02fc2aa5e3fc24996588d63b9582921b1d4db35d2\n",
      "  Stored in directory: /home/piai/.cache/pip/wheels/b6/0d/90/0d1bbd99855f99cb2f6c2e5ff96f8023fad8ec367695f7d72d\n",
      "  Building wheel for wrapt (setup.py) ... \u001b[?25ldone\n",
      "\u001b[?25h  Created wheel for wrapt: filename=wrapt-1.12.1-cp39-cp39-linux_x86_64.whl size=36767 sha256=6b9a24afa75565104ca19cba6793cea90cb5a31149f2c9b5c2e97bf2071e4a67\n",
      "  Stored in directory: /home/piai/.cache/pip/wheels/98/23/68/efe259aaca055e93b08e74fbe512819c69a2155c11ba3c0f10\n",
      "Successfully built grpcio termcolor wrapt\n",
      "Installing collected packages: wrapt, typing-extensions, termcolor, tensorflow-estimator, flatbuffers, six, protobuf, numpy, gast, grpcio, absl-py\n",
      "  Attempting uninstall: wrapt\n",
      "    Found existing installation: wrapt 1.14.1\n",
      "    Uninstalling wrapt-1.14.1:\n",
      "      Successfully uninstalled wrapt-1.14.1\n"
     ]
    },
    {
     "name": "stdout",
     "output_type": "stream",
     "text": [
      "  Attempting uninstall: typing-extensions\n",
      "    Found existing installation: typing_extensions 4.6.3\n",
      "    Uninstalling typing_extensions-4.6.3:\n",
      "      Successfully uninstalled typing_extensions-4.6.3\n",
      "  Attempting uninstall: termcolor\n",
      "    Found existing installation: termcolor 2.1.0\n",
      "    Uninstalling termcolor-2.1.0:\n",
      "      Successfully uninstalled termcolor-2.1.0\n",
      "  Attempting uninstall: tensorflow-estimator\n",
      "    Found existing installation: tensorflow-estimator 2.6.0\n",
      "    Uninstalling tensorflow-estimator-2.6.0:\n",
      "      Successfully uninstalled tensorflow-estimator-2.6.0\n",
      "  Attempting uninstall: flatbuffers\n",
      "    Found existing installation: flatbuffers 2.0\n",
      "    Uninstalling flatbuffers-2.0:\n",
      "      Successfully uninstalled flatbuffers-2.0\n",
      "  Attempting uninstall: six\n",
      "    Found existing installation: six 1.16.0\n",
      "    Uninstalling six-1.16.0:\n",
      "      Successfully uninstalled six-1.16.0\n",
      "  Attempting uninstall: protobuf\n",
      "    Found existing installation: protobuf 3.20.3\n",
      "    Uninstalling protobuf-3.20.3:\n",
      "      Successfully uninstalled protobuf-3.20.3\n",
      "  Attempting uninstall: numpy\n",
      "    Found existing installation: numpy 1.23.5\n",
      "    Uninstalling numpy-1.23.5:\n",
      "      Successfully uninstalled numpy-1.23.5\n",
      "  Attempting uninstall: gast\n",
      "    Found existing installation: gast 0.4.0\n",
      "    Uninstalling gast-0.4.0:\n",
      "      Successfully uninstalled gast-0.4.0\n",
      "  Attempting uninstall: grpcio\n",
      "    Found existing installation: grpcio 1.42.0\n",
      "    Uninstalling grpcio-1.42.0:\n",
      "      Successfully uninstalled grpcio-1.42.0\n",
      "  Attempting uninstall: absl-py\n",
      "    Found existing installation: absl-py 1.3.0\n",
      "    Uninstalling absl-py-1.3.0:\n",
      "      Successfully uninstalled absl-py-1.3.0\n",
      "\u001b[31mERROR: pip's dependency resolver does not currently take into account all the packages that are installed. This behaviour is the source of the following dependency conflicts.\n",
      "matplotlib 3.7.1 requires numpy>=1.20, but you have numpy 1.19.5 which is incompatible.\n",
      "pandas 1.5.3 requires numpy>=1.20.3, but you have numpy 1.19.5 which is incompatible.\u001b[0m\u001b[31m\n",
      "\u001b[0mSuccessfully installed absl-py-0.15.0 flatbuffers-1.12 gast-0.3.3 grpcio-1.32.0 numpy-1.19.5 protobuf-3.19.6 six-1.15.0 tensorflow-estimator-2.4.0 termcolor-1.1.0 typing-extensions-3.7.4.3 wrapt-1.12.1\n"
     ]
    }
   ],
   "source": [
    "!pip install tensorflow"
   ]
  },
  {
   "cell_type": "code",
   "execution_count": 55,
   "id": "8db7dc61",
   "metadata": {},
   "outputs": [
    {
     "name": "stdout",
     "output_type": "stream",
     "text": [
      "2.4.1\n"
     ]
    }
   ],
   "source": [
    "import tensorflow as tf\n",
    "print(tf.__version__)"
   ]
  },
  {
   "cell_type": "code",
   "execution_count": 35,
   "id": "bd918813",
   "metadata": {},
   "outputs": [
    {
     "name": "stdout",
     "output_type": "stream",
     "text": [
      "tf.Tensor([ 1  2  3  4  5  6  7  8  9 10 11 12], shape=(12,), dtype=int32)\n"
     ]
    }
   ],
   "source": [
    "t = [1, 2, 3, 4, 5,6, 7, 8, 9, 10, 11, 12]\n",
    "tensor = tf.constant(t)\n",
    "\n",
    "print(tensor)"
   ]
  },
  {
   "cell_type": "code",
   "execution_count": 36,
   "id": "6156d9ad",
   "metadata": {},
   "outputs": [
    {
     "name": "stdout",
     "output_type": "stream",
     "text": [
      "shape tf.Tensor([12], shape=(1,), dtype=int32)\n",
      "size tf.Tensor(12, shape=(), dtype=int32)\n",
      "rank tf.Tensor(1, shape=(), dtype=int32)\n"
     ]
    }
   ],
   "source": [
    "print(\"shape\", tf.shape(tensor))\n",
    "print(\"size\", tf.size(tensor))\n",
    "print(\"rank\", tf.rank(tensor))"
   ]
  },
  {
   "cell_type": "code",
   "execution_count": 37,
   "id": "cbd31f01",
   "metadata": {},
   "outputs": [],
   "source": [
    "def print_tensor(tensor):\n",
    "    print(tensor)\n",
    "    print(\"shape\", tf.shape(tensor))\n",
    "    print(\"size\", tf.size(tensor))\n",
    "    print(\"rank\", tf.rank(tensor))"
   ]
  },
  {
   "cell_type": "code",
   "execution_count": 38,
   "id": "682c417d",
   "metadata": {},
   "outputs": [
    {
     "name": "stdout",
     "output_type": "stream",
     "text": [
      "tf.Tensor(\n",
      "[[ 1  2  3  4]\n",
      " [ 5  6  7  8]\n",
      " [ 9 10 11 12]], shape=(3, 4), dtype=int32)\n",
      "shape tf.Tensor([3 4], shape=(2,), dtype=int32)\n",
      "size tf.Tensor(12, shape=(), dtype=int32)\n",
      "rank tf.Tensor(2, shape=(), dtype=int32)\n"
     ]
    }
   ],
   "source": [
    "tensor2d = tf.reshape(tensor, [3,4])\n",
    "print_tensor(tensor2d)"
   ]
  },
  {
   "cell_type": "code",
   "execution_count": 39,
   "id": "930e9830",
   "metadata": {},
   "outputs": [
    {
     "name": "stdout",
     "output_type": "stream",
     "text": [
      "tf.Tensor(\n",
      "[[[ 1  2]\n",
      "  [ 3  4]]\n",
      "\n",
      " [[ 5  6]\n",
      "  [ 7  8]]\n",
      "\n",
      " [[ 9 10]\n",
      "  [11 12]]], shape=(3, 2, 2), dtype=int32)\n",
      "shape tf.Tensor([3 2 2], shape=(3,), dtype=int32)\n",
      "size tf.Tensor(12, shape=(), dtype=int32)\n",
      "rank tf.Tensor(3, shape=(), dtype=int32)\n"
     ]
    }
   ],
   "source": [
    "tensor3d = tf.reshape(tensor, [3,2,2])\n",
    "print_tensor(tensor3d)"
   ]
  },
  {
   "cell_type": "code",
   "execution_count": 53,
   "id": "2b03f04c",
   "metadata": {},
   "outputs": [
    {
     "name": "stdout",
     "output_type": "stream",
     "text": [
      "tf.Tensor([ 1  0 -1  1], shape=(4,), dtype=int32)\n",
      "shape tf.Tensor([4], shape=(1,), dtype=int32)\n",
      "size tf.Tensor(4, shape=(), dtype=int32)\n",
      "rank tf.Tensor(1, shape=(), dtype=int32)\n"
     ]
    }
   ],
   "source": [
    "x = tf.constant([1,0,-1,1])\n",
    "print_tensor(x)"
   ]
  },
  {
   "cell_type": "code",
   "execution_count": 41,
   "id": "b456c11b",
   "metadata": {},
   "outputs": [
    {
     "name": "stdout",
     "output_type": "stream",
     "text": [
      "tf.Tensor(\n",
      "[[[ 1  2  3  4]\n",
      "  [ 5  6  7  8]\n",
      "  [ 9 10 11 12]]], shape=(1, 3, 4), dtype=int32)\n",
      "shape tf.Tensor([1 3 4], shape=(3,), dtype=int32)\n",
      "size tf.Tensor(12, shape=(), dtype=int32)\n",
      "rank tf.Tensor(3, shape=(), dtype=int32)\n"
     ]
    }
   ],
   "source": [
    "tensor3d = tf.reshape(tensor, [1,3,4])\n",
    "print_tensor(tensor3d)"
   ]
  },
  {
   "cell_type": "code",
   "execution_count": 42,
   "id": "7dcd8b98",
   "metadata": {},
   "outputs": [
    {
     "ename": "InvalidArgumentError",
     "evalue": "In[1] ndims must be >= 2: 1 [Op:BatchMatMulV2]",
     "output_type": "error",
     "traceback": [
      "\u001b[0;31m---------------------------------------------------------------------------\u001b[0m",
      "\u001b[0;31mInvalidArgumentError\u001b[0m                      Traceback (most recent call last)",
      "Cell \u001b[0;32mIn[42], line 1\u001b[0m\n\u001b[0;32m----> 1\u001b[0m \u001b[43mtf\u001b[49m\u001b[38;5;241;43m.\u001b[39;49m\u001b[43mmatmul\u001b[49m\u001b[43m(\u001b[49m\u001b[43mtensor3d\u001b[49m\u001b[43m,\u001b[49m\u001b[43mx\u001b[49m\u001b[43m)\u001b[49m\n",
      "File \u001b[0;32m~/anaconda3/envs/ml/lib/python3.9/site-packages/tensorflow/python/util/dispatch.py:201\u001b[0m, in \u001b[0;36madd_dispatch_support.<locals>.wrapper\u001b[0;34m(*args, **kwargs)\u001b[0m\n\u001b[1;32m    199\u001b[0m \u001b[38;5;250m\u001b[39m\u001b[38;5;124;03m\"\"\"Call target, and fall back on dispatchers if there is a TypeError.\"\"\"\u001b[39;00m\n\u001b[1;32m    200\u001b[0m \u001b[38;5;28;01mtry\u001b[39;00m:\n\u001b[0;32m--> 201\u001b[0m   \u001b[38;5;28;01mreturn\u001b[39;00m \u001b[43mtarget\u001b[49m\u001b[43m(\u001b[49m\u001b[38;5;241;43m*\u001b[39;49m\u001b[43margs\u001b[49m\u001b[43m,\u001b[49m\u001b[43m \u001b[49m\u001b[38;5;241;43m*\u001b[39;49m\u001b[38;5;241;43m*\u001b[39;49m\u001b[43mkwargs\u001b[49m\u001b[43m)\u001b[49m\n\u001b[1;32m    202\u001b[0m \u001b[38;5;28;01mexcept\u001b[39;00m (\u001b[38;5;167;01mTypeError\u001b[39;00m, \u001b[38;5;167;01mValueError\u001b[39;00m):\n\u001b[1;32m    203\u001b[0m   \u001b[38;5;66;03m# Note: convert_to_eager_tensor currently raises a ValueError, not a\u001b[39;00m\n\u001b[1;32m    204\u001b[0m   \u001b[38;5;66;03m# TypeError, when given unexpected types.  So we need to catch both.\u001b[39;00m\n\u001b[1;32m    205\u001b[0m   result \u001b[38;5;241m=\u001b[39m dispatch(wrapper, args, kwargs)\n",
      "File \u001b[0;32m~/anaconda3/envs/ml/lib/python3.9/site-packages/tensorflow/python/ops/math_ops.py:3276\u001b[0m, in \u001b[0;36mmatmul\u001b[0;34m(a, b, transpose_a, transpose_b, adjoint_a, adjoint_b, a_is_sparse, b_is_sparse, name)\u001b[0m\n\u001b[1;32m   3274\u001b[0m     b \u001b[38;5;241m=\u001b[39m conj(b)\n\u001b[1;32m   3275\u001b[0m     adjoint_b \u001b[38;5;241m=\u001b[39m \u001b[38;5;28;01mTrue\u001b[39;00m\n\u001b[0;32m-> 3276\u001b[0m   \u001b[38;5;28;01mreturn\u001b[39;00m \u001b[43mgen_math_ops\u001b[49m\u001b[38;5;241;43m.\u001b[39;49m\u001b[43mbatch_mat_mul_v2\u001b[49m\u001b[43m(\u001b[49m\n\u001b[1;32m   3277\u001b[0m \u001b[43m      \u001b[49m\u001b[43ma\u001b[49m\u001b[43m,\u001b[49m\u001b[43m \u001b[49m\u001b[43mb\u001b[49m\u001b[43m,\u001b[49m\u001b[43m \u001b[49m\u001b[43madj_x\u001b[49m\u001b[38;5;241;43m=\u001b[39;49m\u001b[43madjoint_a\u001b[49m\u001b[43m,\u001b[49m\u001b[43m \u001b[49m\u001b[43madj_y\u001b[49m\u001b[38;5;241;43m=\u001b[39;49m\u001b[43madjoint_b\u001b[49m\u001b[43m,\u001b[49m\u001b[43m \u001b[49m\u001b[43mname\u001b[49m\u001b[38;5;241;43m=\u001b[39;49m\u001b[43mname\u001b[49m\u001b[43m)\u001b[49m\n\u001b[1;32m   3279\u001b[0m \u001b[38;5;66;03m# Neither matmul nor sparse_matmul support adjoint, so we conjugate\u001b[39;00m\n\u001b[1;32m   3280\u001b[0m \u001b[38;5;66;03m# the matrix and use transpose instead. Conj() is a noop for real\u001b[39;00m\n\u001b[1;32m   3281\u001b[0m \u001b[38;5;66;03m# matrices.\u001b[39;00m\n\u001b[1;32m   3282\u001b[0m \u001b[38;5;28;01mif\u001b[39;00m adjoint_a:\n",
      "File \u001b[0;32m~/anaconda3/envs/ml/lib/python3.9/site-packages/tensorflow/python/ops/gen_math_ops.py:1519\u001b[0m, in \u001b[0;36mbatch_mat_mul_v2\u001b[0;34m(x, y, adj_x, adj_y, name)\u001b[0m\n\u001b[1;32m   1517\u001b[0m   \u001b[38;5;28;01mreturn\u001b[39;00m _result\n\u001b[1;32m   1518\u001b[0m \u001b[38;5;28;01mexcept\u001b[39;00m _core\u001b[38;5;241m.\u001b[39m_NotOkStatusException \u001b[38;5;28;01mas\u001b[39;00m e:\n\u001b[0;32m-> 1519\u001b[0m   \u001b[43m_ops\u001b[49m\u001b[38;5;241;43m.\u001b[39;49m\u001b[43mraise_from_not_ok_status\u001b[49m\u001b[43m(\u001b[49m\u001b[43me\u001b[49m\u001b[43m,\u001b[49m\u001b[43m \u001b[49m\u001b[43mname\u001b[49m\u001b[43m)\u001b[49m\n\u001b[1;32m   1520\u001b[0m \u001b[38;5;28;01mexcept\u001b[39;00m _core\u001b[38;5;241m.\u001b[39m_FallbackException:\n\u001b[1;32m   1521\u001b[0m   \u001b[38;5;28;01mpass\u001b[39;00m\n",
      "File \u001b[0;32m~/anaconda3/envs/ml/lib/python3.9/site-packages/tensorflow/python/framework/ops.py:6862\u001b[0m, in \u001b[0;36mraise_from_not_ok_status\u001b[0;34m(e, name)\u001b[0m\n\u001b[1;32m   6860\u001b[0m message \u001b[38;5;241m=\u001b[39m e\u001b[38;5;241m.\u001b[39mmessage \u001b[38;5;241m+\u001b[39m (\u001b[38;5;124m\"\u001b[39m\u001b[38;5;124m name: \u001b[39m\u001b[38;5;124m\"\u001b[39m \u001b[38;5;241m+\u001b[39m name \u001b[38;5;28;01mif\u001b[39;00m name \u001b[38;5;129;01mis\u001b[39;00m \u001b[38;5;129;01mnot\u001b[39;00m \u001b[38;5;28;01mNone\u001b[39;00m \u001b[38;5;28;01melse\u001b[39;00m \u001b[38;5;124m\"\u001b[39m\u001b[38;5;124m\"\u001b[39m)\n\u001b[1;32m   6861\u001b[0m \u001b[38;5;66;03m# pylint: disable=protected-access\u001b[39;00m\n\u001b[0;32m-> 6862\u001b[0m \u001b[43msix\u001b[49m\u001b[38;5;241;43m.\u001b[39;49m\u001b[43mraise_from\u001b[49m\u001b[43m(\u001b[49m\u001b[43mcore\u001b[49m\u001b[38;5;241;43m.\u001b[39;49m\u001b[43m_status_to_exception\u001b[49m\u001b[43m(\u001b[49m\u001b[43me\u001b[49m\u001b[38;5;241;43m.\u001b[39;49m\u001b[43mcode\u001b[49m\u001b[43m,\u001b[49m\u001b[43m \u001b[49m\u001b[43mmessage\u001b[49m\u001b[43m)\u001b[49m\u001b[43m,\u001b[49m\u001b[43m \u001b[49m\u001b[38;5;28;43;01mNone\u001b[39;49;00m\u001b[43m)\u001b[49m\n",
      "File \u001b[0;32m<string>:3\u001b[0m, in \u001b[0;36mraise_from\u001b[0;34m(value, from_value)\u001b[0m\n",
      "\u001b[0;31mInvalidArgumentError\u001b[0m: In[1] ndims must be >= 2: 1 [Op:BatchMatMulV2]"
     ]
    }
   ],
   "source": [
    "tf.matmul(tensor3d,x)"
   ]
  },
  {
   "cell_type": "code",
   "execution_count": 43,
   "id": "73de5ed8",
   "metadata": {},
   "outputs": [
    {
     "name": "stdout",
     "output_type": "stream",
     "text": [
      "tf.Tensor(\n",
      "[[ 1  2  3  4]\n",
      " [ 5  6  7  8]\n",
      " [ 9 10 11 12]], shape=(3, 4), dtype=int32)\n",
      "shape tf.Tensor([3 4], shape=(2,), dtype=int32)\n",
      "size tf.Tensor(12, shape=(), dtype=int32)\n",
      "rank tf.Tensor(2, shape=(), dtype=int32)\n"
     ]
    }
   ],
   "source": [
    "tensor3d = tf.squeeze(tensor3d)\n",
    "print_tensor(tensor3d)"
   ]
  },
  {
   "cell_type": "code",
   "execution_count": 44,
   "id": "4ddea356",
   "metadata": {},
   "outputs": [
    {
     "data": {
      "text/plain": [
       "<tf.Tensor: shape=(3, 1), dtype=int32, numpy=\n",
       "array([[ 2],\n",
       "       [ 6],\n",
       "       [10]], dtype=int32)>"
      ]
     },
     "execution_count": 44,
     "metadata": {},
     "output_type": "execute_result"
    }
   ],
   "source": [
    "x = tf.expand_dims(x, 1)\n",
    "tf.matmul(tensor3d, x)\n",
    "\n",
    "# tensor3d 1,3,4 /// x 4,\n",
    "# tensor3d 3,4 (squeeze) // x 4,1 (expand_dims)"
   ]
  },
  {
   "cell_type": "code",
   "execution_count": 45,
   "id": "524c69e0",
   "metadata": {},
   "outputs": [
    {
     "name": "stdout",
     "output_type": "stream",
     "text": [
      "tf.Tensor(\n",
      "[[ 2]\n",
      " [ 6]\n",
      " [10]], shape=(3, 1), dtype=int32)\n"
     ]
    }
   ],
   "source": [
    "print(tensor3d@x)"
   ]
  },
  {
   "cell_type": "code",
   "execution_count": 48,
   "id": "98364a66",
   "metadata": {},
   "outputs": [
    {
     "name": "stdout",
     "output_type": "stream",
     "text": [
      "tf.Tensor(10.0, shape=(), dtype=float32)\n",
      "tf.Tensor(2.5, shape=(), dtype=float32)\n"
     ]
    }
   ],
   "source": [
    "mat = tf.constant([[1.0, 2.0], [3.0, 4.0]])\n",
    "#[1,2]\n",
    "#[3,4]\n",
    "my_sum = tf.reduce_sum(mat)\n",
    "my_mean = tf.reduce_mean(mat)\n",
    "\n",
    "print(my_sum)\n",
    "print(my_mean)"
   ]
  },
  {
   "cell_type": "code",
   "execution_count": 50,
   "id": "7b15a529",
   "metadata": {},
   "outputs": [
    {
     "name": "stdout",
     "output_type": "stream",
     "text": [
      "tf.Tensor([2. 3.], shape=(2,), dtype=float32)\n",
      "tf.Tensor([1.5 3.5], shape=(2,), dtype=float32)\n",
      "tf.Tensor([4. 6.], shape=(2,), dtype=float32)\n",
      "tf.Tensor([3. 7.], shape=(2,), dtype=float32)\n"
     ]
    }
   ],
   "source": [
    "print(tf.reduce_mean(mat, axis=0))\n",
    "print(tf.reduce_mean(mat, axis=1))\n",
    "\n",
    "print(tf.reduce_sum(mat, axis=0))\n",
    "print(tf.reduce_sum(mat, axis=1))"
   ]
  },
  {
   "cell_type": "code",
   "execution_count": null,
   "id": "fd7ee74b",
   "metadata": {},
   "outputs": [],
   "source": []
  }
 ],
 "metadata": {
  "kernelspec": {
   "display_name": "Python 3 (ipykernel)",
   "language": "python",
   "name": "python3"
  },
  "language_info": {
   "codemirror_mode": {
    "name": "ipython",
    "version": 3
   },
   "file_extension": ".py",
   "mimetype": "text/x-python",
   "name": "python",
   "nbconvert_exporter": "python",
   "pygments_lexer": "ipython3",
   "version": "3.9.16"
  }
 },
 "nbformat": 4,
 "nbformat_minor": 5
}
