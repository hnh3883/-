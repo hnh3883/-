{
 "cells": [
  {
   "attachments": {},
   "cell_type": "markdown",
   "metadata": {},
   "source": [
    "## 모델 동작에 필요한 사전 준비"
   ]
  },
  {
   "cell_type": "code",
   "execution_count": null,
   "metadata": {},
   "outputs": [],
   "source": [
    "! pip install tensorflow_datasets"
   ]
  },
  {
   "cell_type": "code",
   "execution_count": null,
   "metadata": {},
   "outputs": [],
   "source": [
    "import tensorflow as tf\n",
    "import tensorflow_datasets as tfds\n",
    "import time\n",
    "import matplotlib.pyplot as plt\n",
    "\n",
    "from IPython.display import clear_output\n",
    "\n",
    "AUTOTUNE = tf.data.experimental.AUTOTUNE"
   ]
  },
  {
   "cell_type": "code",
   "execution_count": null,
   "metadata": {},
   "outputs": [],
   "source": [
    "physical_devices = tf.config.experimental.list_physical_devices('GPU')\n",
    "print(physical_devices)\n",
    "\n",
    "tf.config.experimental.set_visible_devices(physical_devices[0], 'GPU')"
   ]
  },
  {
   "attachments": {},
   "cell_type": "markdown",
   "metadata": {},
   "source": [
    "## 데이터 불러오기 및 전처리"
   ]
  },
  {
   "cell_type": "code",
   "execution_count": null,
   "metadata": {},
   "outputs": [],
   "source": [
    "# 이번 CycleGAN 실습에 활용될 말과 얼룩말 이미지 데이터를 불러온 후,\n",
    "# 불러온 데이터를 Training용과 Testing용으로 나누는 과정\n",
    "# 모든 이미지 데이터의 크기는 256 x 256 x 3 (RGB)\n",
    "\n",
    "dataset, metadata = tfds.load('cycle_gan/horse2zebra', with_info = True, as_supervised = True)\n",
    "\n",
    "train_horses, train_zebras = dataset['trainA'], dataset['trainB']\n",
    "test_horses, test_zebras = dataset['testA'], dataset['testB']"
   ]
  },
  {
   "cell_type": "code",
   "execution_count": null,
   "metadata": {},
   "outputs": [],
   "source": [
    "# Hyperparameter 값들\n",
    "\n",
    "BUFFER_SIZE = 1000  # Dataset의 순서를 섞는 과정에서의 Buffer의 크기\n",
    "BATCH_SIZE = 1      # Training 및 Test 과정에서의 (Mini)Batch의 크기\n",
    "IMG_HEIGHT = 256    # 조정될 그림의 높이\n",
    "IMG_WIDTH = 256     # 조정될 그림의 폭"
   ]
  },
  {
   "attachments": {},
   "cell_type": "markdown",
   "metadata": {},
   "source": [
    "### 이미지 데이터 전처리용 함수"
   ]
  },
  {
   "cell_type": "code",
   "execution_count": null,
   "metadata": {},
   "outputs": [],
   "source": [
    "# IMG_HEIGHT x IMG_WIDTH (256 x 256) 크기보다 큰 이미지의 경우\n",
    "# 이미지 내에서 무작위로 IMG_HEIGHT x IMG_WIDTH 크기만큼의 부분 추출\n",
    "\n",
    "def random_crop(image):\n",
    "    cropped_image = tf.image.random_crop(image, size = [IMG_HEIGHT, IMG_WIDTH, 3])\n",
    "\n",
    "    return cropped_image\n",
    "\n",
    "\n",
    "\n",
    "# Data augmentation - 데이터셋의 이미지를 무작위적으로 변환\n",
    "# 여기서는 이미지의 일부를 무작위로 추출한 후 무작위로 추가적인 좌우 반전 과정을 거침\n",
    "\n",
    "def random_jitter(image):\n",
    "    # 256 x 256 x 3 크기의 이미지를 286 x 286 x 3 크기로 조정\n",
    "    image = tf.image.resize(image, [286, 286], method = tf.image.ResizeMethod.NEAREST_NEIGHBOR)\n",
    "\n",
    "    # 조정된 이미지에서 256 x 256 크기 부분 추출 -> 이미지의 일부가 무작위로 추출 및 확대되는 효과\n",
    "    image = random_crop(image)\n",
    "\n",
    "    # 추출해서 얻어진 이미지를 그대로 두거나 좌우 반전\n",
    "    image = tf.image.random_flip_left_right(image)\n",
    "\n",
    "    return image\n",
    "\n",
    "\n",
    "\n",
    "# 이미지 내의 각 픽셀 내의 값을 [-1, 1] 범위로 표준화\n",
    "\n",
    "def normalize(image):\n",
    "    image = tf.cast(image, tf.float32)  # 표준화 전: 0 ~ 255 (RGB)\n",
    "    image = (image / 127.5) - 1         # 표준화 후: -1 ~ 1 (RGB)\n",
    "    return image"
   ]
  },
  {
   "attachments": {},
   "cell_type": "markdown",
   "metadata": {},
   "source": [
    "### Training 및 Test 이미지 데이터 전처리 함수"
   ]
  },
  {
   "cell_type": "code",
   "execution_count": null,
   "metadata": {},
   "outputs": [],
   "source": [
    "# Training 이미지 데이터만 이미지 변형 (data augmentation) 과정을 거침\n",
    "\n",
    "def preprocess_image_train(image, label):\n",
    "    image = random_jitter(image)\n",
    "    image = normalize(image)\n",
    "    return image\n",
    "\n",
    "\n",
    "\n",
    "def preprocess_image_test(image, label):\n",
    "    image = normalize(image)\n",
    "    return image"
   ]
  },
  {
   "cell_type": "code",
   "execution_count": null,
   "metadata": {},
   "outputs": [],
   "source": [
    "# 말과 얼룩말 이미지 데이터 전처리\n",
    "# 전처리 과정에서 이미지의 순서 또한 무작위적으로 섞이게 됨!\n",
    "\n",
    "train_horses = train_horses.map(preprocess_image_train, num_parallel_calls = AUTOTUNE).cache().shuffle(BUFFER_SIZE).batch(1)\n",
    "train_zebras = train_zebras.map(preprocess_image_train, num_parallel_calls = AUTOTUNE).cache().shuffle(BUFFER_SIZE).batch(1)\n",
    "\n",
    "test_horses = test_horses.map(preprocess_image_test, num_parallel_calls = AUTOTUNE).cache().shuffle(BUFFER_SIZE).batch(1)\n",
    "test_zebras = test_zebras.map(preprocess_image_test, num_parallel_calls = AUTOTUNE).cache().shuffle(BUFFER_SIZE).batch(1)"
   ]
  },
  {
   "cell_type": "code",
   "execution_count": null,
   "metadata": {},
   "outputs": [],
   "source": [
    "# 이미지 예시 확인을 위해 전처리된 Training용 이미지들 중 가장 첫번째 이미지를 불러옴\n",
    "\n",
    "sample_horse = next(iter(train_horses))\n",
    "sample_zebra = next(iter(train_zebras))"
   ]
  },
  {
   "cell_type": "code",
   "execution_count": null,
   "metadata": {},
   "outputs": [],
   "source": [
    "# 말 이미지 예시\n",
    "\n",
    "plt.subplot(121)\n",
    "plt.title('Horse\\n(Original Image)')\n",
    "plt.imshow(sample_horse[0] * 0.5 + 0.5)\n",
    "\n",
    "plt.subplot(122)\n",
    "plt.title('Horse with Random Jitter\\n(Augmented Image)')\n",
    "plt.imshow(random_jitter(sample_horse[0]) * 0.5 + 0.5)"
   ]
  },
  {
   "cell_type": "code",
   "execution_count": null,
   "metadata": {},
   "outputs": [],
   "source": [
    "# 얼룩말 이미지 예시\n",
    "\n",
    "plt.subplot(121)\n",
    "plt.title('Zebra\\n(Original Image)')\n",
    "plt.imshow(sample_zebra[0] * 0.5 + 0.5)\n",
    "\n",
    "plt.subplot(122)\n",
    "plt.title('Zebra with Random Jitter\\n(Augmented Image)')\n",
    "plt.imshow(random_jitter(sample_zebra[0]) * 0.5 + 0.5)"
   ]
  },
  {
   "attachments": {},
   "cell_type": "markdown",
   "metadata": {},
   "source": [
    "## GAN의 구성 요소 구현"
   ]
  },
  {
   "attachments": {},
   "cell_type": "markdown",
   "metadata": {},
   "source": [
    "### 이미지와 벡터 사이의 변환 - Downsampling과 Upsampling"
   ]
  },
  {
   "cell_type": "code",
   "execution_count": null,
   "metadata": {},
   "outputs": [],
   "source": [
    "# Downsampling: 이미지 -> 벡터\n",
    "# 매 Downsampling 과장마다 이미지 크기 (가로, 세로 길이)가 절반으로 축소됨\n",
    "\n",
    "def downsample(filters, size, apply_batchnorm = True):\n",
    "    initializer = tf.random_normal_initializer(0., 0.02)\n",
    "\n",
    "    result = tf.keras.Sequential()\n",
    "    \n",
    "    # 이미지 크기를 절반으로 축소시키는 과정\n",
    "    # 2D convolutional layer에서 same padding을 적용하고 strides 값을 2로 할 경우 이미지의 크기가 절반으로 줄어드는 효과!\n",
    "    result.add(tf.keras.layers.Conv2D(filters, size, strides = 2, padding = 'same', kernel_initializer = initializer, use_bias = False))\n",
    "    \n",
    "    if apply_batchnorm:\n",
    "        result.add(tf.keras.layers.BatchNormalization())\n",
    "\n",
    "    result.add(tf.keras.layers.LeakyReLU())\n",
    "\n",
    "    return result\n",
    "\n",
    "\n",
    "\n",
    "# Upsampling: 벡터 -> 이미지\n",
    "# 매 Upsampling 과정마다 이미지 크기 (가로, 세로 길이) 두 배로 확장됨\n",
    "\n",
    "def upsample(filters, size, apply_dropout = False):\n",
    "    initializer = tf.random_normal_initializer(0., 0.02)\n",
    "\n",
    "    result = tf.keras.Sequential()\n",
    "    \n",
    "    # 이미지 크기를 두 배로 확장시키는 과정\n",
    "    # 2D convolutional layer의 역연산에 해당하는 transposed 2D convolutional layer의 경우,\n",
    "    # same padding을 적용하고 strides 값을 2로 할 경우 이미지의 크기가 두 배로 확장되는 효과!\n",
    "    result.add(tf.keras.layers.Conv2DTranspose(filters, size, strides = 2, padding = 'same', kernel_initializer = initializer, use_bias = False))\n",
    "\n",
    "    result.add(tf.keras.layers.BatchNormalization())\n",
    "\n",
    "    if apply_dropout:\n",
    "        result.add(tf.keras.layers.Dropout(0.5))\n",
    "\n",
    "    result.add(tf.keras.layers.ReLU())\n",
    "\n",
    "    return result"
   ]
  },
  {
   "attachments": {},
   "cell_type": "markdown",
   "metadata": {},
   "source": [
    "### GAN의 생성자와 판별자 정의"
   ]
  },
  {
   "cell_type": "code",
   "execution_count": null,
   "metadata": {},
   "outputs": [],
   "source": [
    "# GAN의 생성자 (Generator)\n",
    "\n",
    "def Generator():\n",
    "    inputs = tf.keras.layers.Input(shape = [256, 256, 3])\n",
    "\n",
    "    down_stack = [\n",
    "        downsample(64, 4, apply_batchnorm = False), # (batch_size, 128, 128, 64)\n",
    "        downsample(128, 4),                         # (batch_size, 64, 64, 128)\n",
    "        downsample(256, 4),                         # (batch_size, 32, 32, 256)\n",
    "        downsample(512, 4),                         # (batch_size, 16, 16, 512)\n",
    "        downsample(512, 4),                         # (batch_size, 8, 8, 512)\n",
    "        downsample(512, 4),                         # (batch_size, 4, 4, 512)\n",
    "        downsample(512, 4),                         # (batch_size, 2, 2, 512)\n",
    "        downsample(512, 4),                         # (batch_size, 1, 1, 512)\n",
    "    ]\n",
    "\n",
    "\n",
    "    # Upsampling의 경우 channel 수가 upsample 함수의 parameter로 제공되는 channel 수의 2배!\n",
    "    # 이는 upsampling 과정에서는 skip connection을 추가적으로 진행하기 때문 (아래 for문들 참고)\n",
    "    up_stack = [\n",
    "        upsample(512, 4, apply_dropout = True),     # (batch_size, 2, 2, 1024)\n",
    "        upsample(512, 4, apply_dropout = True),     # (batch_size, 4, 4, 1024)\n",
    "        upsample(512, 4, apply_dropout = True),     # (batch_size, 8, 8, 1024)\n",
    "        upsample(512, 4),                           # (batch_size, 16, 16, 1024)\n",
    "        upsample(256, 4),                           # (batch_size, 32, 32, 512)\n",
    "        upsample(128, 4),                           # (batch_size, 64, 64, 256)\n",
    "        upsample(64, 4),                            # (batch_size, 128, 128, 128)\n",
    "    ]\n",
    "\n",
    "\n",
    "    initializer = tf.random_normal_initializer(0., 0.02)\n",
    "    last = tf.keras.layers.Conv2DTranspose(3, 4, strides = 2, padding = 'same', kernel_initializer = initializer, activation = 'tanh')      # (batch_size, 256, 256, 3)\n",
    "\n",
    "    x = inputs\n",
    "\n",
    "    # 모델 내에서의 Downsampling 과정\n",
    "    skips = []\n",
    "    for down in down_stack:\n",
    "        x = down(x)\n",
    "        skips.append(x)\n",
    "\n",
    "    skips = reversed(skips[:-1])\n",
    "    \n",
    "\n",
    "    # 모델 내에서의 Upsampling 과정\n",
    "    # 이전 정보의 보존을 목적으로 skip connection도 추가\n",
    "    for up, skip in zip(up_stack, skips):\n",
    "        x = up(x)\n",
    "        x = tf.keras.layers.Concatenate()([x, skip])\n",
    "    \n",
    "    x = last(x)\n",
    "    \n",
    "\n",
    "    return tf.keras.Model(inputs = inputs, outputs = x)"
   ]
  },
  {
   "cell_type": "code",
   "execution_count": null,
   "metadata": {},
   "outputs": [],
   "source": [
    "# GAN의 판별자 (Discriminator)\n",
    "\n",
    "def Discriminator():\n",
    "    initializer = tf.random_normal_initializer(0., 0.02)\n",
    "    \n",
    "    inputs = tf.keras.layers.Input(shape = [256, 256, 3], name = 'input_image')\n",
    "    \n",
    "    down1 = downsample(64, 4, False)(inputs)    # (batch_size, 128, 128, 64)\n",
    "    down2 = downsample(128, 4)(down1)           # (batch_size, 64, 64, 128)\n",
    "    down3 = downsample(256, 4)(down2)           # (batch_size, 32, 32, 256)\n",
    "    \n",
    "    zero_pad1 = tf.keras.layers.ZeroPadding2D()(down3)      # (batch_size, 34, 34, 64)\n",
    "    conv = tf.keras.layers.Conv2D(128, 4, strides = 1, kernel_initializer = initializer, use_bias = False)(zero_pad1)     # (batch_size, 31, 31, 64)\n",
    "    \n",
    "    batchnorm1 = tf.keras.layers.BatchNormalization()(conv)\n",
    "    leaky_relu = tf.keras.layers.LeakyReLU()(batchnorm1)\n",
    "    \n",
    "    zero_pad2 = tf.keras.layers.ZeroPadding2D()(leaky_relu)     # (batch_size, 33, 33, 64)\n",
    "    last = tf.keras.layers.Conv2D(1, 4, strides = 1, kernel_initializer = initializer)(zero_pad2)       # (batch_size, 30, 30, 1)\n",
    "    \n",
    "    return tf.keras.Model(inputs = inputs, outputs = last)"
   ]
  },
  {
   "attachments": {},
   "cell_type": "markdown",
   "metadata": {},
   "source": [
    "### CycleGAN 구조 정의"
   ]
  },
  {
   "cell_type": "code",
   "execution_count": null,
   "metadata": {},
   "outputs": [],
   "source": [
    "# CycleGAN의 경우 2개의 생성자와 2개의 판별자로 구성됨\n",
    "\n",
    "''' Fill here '''"
   ]
  },
  {
   "attachments": {},
   "cell_type": "markdown",
   "metadata": {},
   "source": [
    "### 생성자 동작 확인"
   ]
  },
  {
   "cell_type": "code",
   "execution_count": null,
   "metadata": {},
   "outputs": [],
   "source": [
    "# generator_g: 말 -> 얼룩말\n",
    "# generator_f: 얼룩말 -> 말\n",
    "\n",
    "to_zebra = generator_g(sample_horse)\n",
    "to_horse = generator_f(sample_zebra)\n",
    "\n",
    "plt.figure(figsize = (8, 8))\n",
    "contrast = 8\n",
    "\n",
    "imgs = [sample_horse, to_zebra, sample_zebra, to_horse]\n",
    "title = ['Horse', 'To Zebra', 'Zebra', 'To Horse']\n",
    "\n",
    "for i in range(len(imgs)):\n",
    "    plt.subplot(2, 2, i + 1)\n",
    "    plt.title(title[i])\n",
    "    if i % 2 == 0:\n",
    "        plt.imshow(imgs[i][0] * 0.5 + 0.5)\n",
    "    else:\n",
    "        plt.imshow(imgs[i][0] * 0.5 * contrast + 0.5)\n",
    "        \n",
    "plt.show()"
   ]
  },
  {
   "attachments": {},
   "cell_type": "markdown",
   "metadata": {},
   "source": [
    "### 판별자 동작 확인"
   ]
  },
  {
   "cell_type": "code",
   "execution_count": null,
   "metadata": {},
   "outputs": [],
   "source": [
    "# discriminator_x: 제공받은 이미지가 말 이미지인지 판별\n",
    "# discriminator_y: 제공받은 이미지가 얼룩말 이미지인지 판별\n",
    "\n",
    "plt.figure(figsize=(8, 8))\n",
    "\n",
    "plt.subplot(121)\n",
    "plt.title('Is This a Real Zebra?')\n",
    "plt.imshow(discriminator_y(sample_zebra)[0, ..., -1], cmap = 'RdBu_r')\n",
    "\n",
    "plt.subplot(122)\n",
    "plt.title('Is This a Real Horse?')\n",
    "plt.imshow(discriminator_x(sample_horse)[0, ..., -1], cmap = 'RdBu_r')\n",
    "\n",
    "plt.show()"
   ]
  },
  {
   "attachments": {},
   "cell_type": "markdown",
   "metadata": {},
   "source": [
    "## Training"
   ]
  },
  {
   "cell_type": "code",
   "execution_count": null,
   "metadata": {},
   "outputs": [],
   "source": [
    "# Training 과정 관련 hyperparameters\n",
    "\n",
    "LAMBDA = 10\n",
    "EPOCHS = 1"
   ]
  },
  {
   "cell_type": "code",
   "execution_count": null,
   "metadata": {},
   "outputs": [],
   "source": [
    "# Loss function과 optimizer 정의\n",
    "\n",
    "loss_obj = tf.keras.losses.BinaryCrossentropy(from_logits = True)\n",
    "\n",
    "generator_g_optimizer = tf.keras.optimizers.Adam(2e-4, beta_1 = 0.5)\n",
    "generator_f_optimizer = tf.keras.optimizers.Adam(2e-4, beta_1 = 0.5)\n",
    "\n",
    "discriminator_x_optimizer = tf.keras.optimizers.Adam(2e-4, beta_1 = 0.5)\n",
    "discriminator_y_optimizer = tf.keras.optimizers.Adam(2e-4, beta_1 = 0.5)"
   ]
  },
  {
   "attachments": {},
   "cell_type": "markdown",
   "metadata": {},
   "source": [
    "### Loss Function 정의"
   ]
  },
  {
   "cell_type": "code",
   "execution_count": null,
   "metadata": {},
   "outputs": [],
   "source": [
    "# 네 종류의 loss function 정의\n",
    "# discriminator_loss: GAN의 판별자 관련 loss function\n",
    "# generator_loss: GAN의 생성자 관련 loss function\n",
    "# calc_cycled_loss: 한 이미지와 해당 이미지를 두 번 변환시켜 얻어진 이미지 (말 -> 얼룩말 -> 말 or 얼룩말 -> 말 -> 얼룩말) 사이의 loss를 구하는 loss function\n",
    "# identity_loss: 한 이미지와 해당 이미지를 동일한 이미지로 유지시키게끔 변환시켜 얻어진 이미지 (말 -> 말 or 얼룩말 -> 얼룩말) 사이의 loss를 구하는 loss function\n",
    "\n",
    "def discriminator_loss(real, generated):\n",
    "    ''' Fill here '''\n",
    "\n",
    "\n",
    "def generator_loss(generated):\n",
    "    ''' Fill here '''\n",
    "\n",
    "\n",
    "def calc_cycle_loss(real_image, cycled_image):\n",
    "    ''' Fill here '''\n",
    "\n",
    "\n",
    "def identity_loss(real_image, same_image):\n",
    "    ''' Fill here '''"
   ]
  },
  {
   "attachments": {},
   "cell_type": "markdown",
   "metadata": {},
   "source": [
    "### 이미지 출력용 함수"
   ]
  },
  {
   "cell_type": "code",
   "execution_count": null,
   "metadata": {},
   "outputs": [],
   "source": [
    "def generate_images(model, test_input):\n",
    "    prediction = model(test_input)\n",
    "    \n",
    "    plt.figure(figsize = (12, 12))\n",
    "\n",
    "    display_list = [test_input[0], prediction[0]]\n",
    "    title = ['Input Image', 'Predicted Image']\n",
    "    \n",
    "    for i in range(2):\n",
    "        plt.subplot(1, 2, i + 1)\n",
    "        plt.title(title[i])\n",
    "        plt.imshow(display_list[i] * 0.5 + 0.5)\n",
    "        plt.axis('off')\n",
    "    plt.show()"
   ]
  },
  {
   "attachments": {},
   "cell_type": "markdown",
   "metadata": {},
   "source": [
    "### Training 과정"
   ]
  },
  {
   "cell_type": "code",
   "execution_count": null,
   "metadata": {},
   "outputs": [],
   "source": [
    "def train_step(real_x, real_y):\n",
    "  \n",
    "    # Gradient 계산 과정에서 gradient tape가 여러 번 쓰이기 때문에 persistent를 True로 설정함\n",
    "    with tf.GradientTape(persistent = True) as tape:\n",
    "        # x: 말 이미지\n",
    "        # y: 얼룩말 이미지\n",
    "        # 생성자 g: 변환 x -> y (말 -> 얼룩말)를 담당\n",
    "        # 생성자 f: 변환 y -> x (얼룩말 -> 말)를 담당\n",
    "        # fake: 말 -> 얼룩말 or 얼룩말 -> 말\n",
    "        # cycled: 말 -> 얼룩말 -> 말 or 얼룩말 -> 말 -> 얼룩말\n",
    "        # same: 말 -> 말 or 얼룩말 -> 얼룩말\n",
    "    \n",
    "        fake_y = generator_g(real_x, training = True)\n",
    "        cycled_x = generator_f(fake_y, training = True)\n",
    "\n",
    "        fake_x = generator_f(real_y, training = True)\n",
    "        cycled_y = generator_g(fake_x, training = True)\n",
    "\n",
    "        same_x = generator_f(real_x, training=True)\n",
    "        same_y = generator_g(real_y, training=True)\n",
    "\n",
    "        disc_real_x = discriminator_x(real_x, training=True)\n",
    "        disc_real_y = discriminator_y(real_y, training=True)\n",
    "\n",
    "        disc_fake_x = discriminator_x(fake_x, training=True)\n",
    "        disc_fake_y = discriminator_y(fake_y, training=True)\n",
    "\n",
    "        # Generator loss와 cycle loss 계산\n",
    "        ''' Fill here '''\n",
    "\n",
    "        # Total generator loss = adversarial loss (generator loss + identity loss) + cycle loss\n",
    "        ''' Fill here '''\n",
    "\n",
    "        # Discriminator loss 계산\n",
    "        ''' Fill here '''\n",
    "    \n",
    "    # CycleGAN을 구성하는 생성자와 판별자들의 gradient 값들을 계산하는 과정\n",
    "    generator_g_gradients = tape.gradient(total_gen_g_loss, generator_g.trainable_variables)\n",
    "    generator_f_gradients = tape.gradient(total_gen_f_loss, generator_f.trainable_variables)\n",
    "\n",
    "    discriminator_x_gradients = tape.gradient(disc_x_loss, discriminator_x.trainable_variables)\n",
    "    discriminator_y_gradients = tape.gradient(disc_y_loss, discriminator_y.trainable_variables)\n",
    "\n",
    "    # 계산된 gradient 값들을 기반으로 CycleGAN의 생성자와 판별자들을 optimize하는 과정\n",
    "    generator_g_optimizer.apply_gradients(zip(generator_g_gradients, generator_g.trainable_variables))\n",
    "    generator_f_optimizer.apply_gradients(zip(generator_f_gradients, generator_f.trainable_variables))\n",
    "\n",
    "    discriminator_x_optimizer.apply_gradients(zip(discriminator_x_gradients, discriminator_x.trainable_variables))\n",
    "    discriminator_y_optimizer.apply_gradients(zip(discriminator_y_gradients, discriminator_y.trainable_variables))"
   ]
  },
  {
   "cell_type": "code",
   "execution_count": null,
   "metadata": {},
   "outputs": [],
   "source": [
    "# 실제 training 과정\n",
    "\n",
    "for epoch in range(EPOCHS):\n",
    "    start = time.time()\n",
    "\n",
    "    n = 0\n",
    "\n",
    "    for image_x, image_y in tf.data.Dataset.zip((train_horses, train_zebras)):\n",
    "        train_step(image_x, image_y)\n",
    "        if n % 10 == 0:\n",
    "            print ('.', end = '')\n",
    "        n += 1\n",
    "\n",
    "    clear_output(wait = True)\n",
    "    # 모델의 학습 과정을 확실하게 보여주기 위한 목적으로 동일한 이미지 (sample_horse) 사용\n",
    "    generate_images(generator_g, sample_horse)\n",
    "\n",
    "    # Training 과정이 오래 걸리기 때문에, EPOCHS 값을 크게 설정하였을 경우 일정 epoch마다 checkpoint를 생성\n",
    "    #if (epoch + 1) % 5 == 0:\n",
    "    #    ckpt_save_path = ckpt_manager.save()\n",
    "    #    print ('Saving checkpoint for epoch {} at {}'.format(epoch+1, ckpt_save_path))\n",
    "\n",
    "    print ('Time taken for epoch {} is {} sec.\\n'.format(epoch + 1, time.time() - start))"
   ]
  },
  {
   "attachments": {},
   "cell_type": "markdown",
   "metadata": {},
   "source": [
    "## Testing"
   ]
  },
  {
   "cell_type": "code",
   "execution_count": null,
   "metadata": {},
   "outputs": [],
   "source": [
    "# 학습된 모델을 test data에 적용\n",
    "# 여기서는 말 이미지 중 첫번째 이미지에 적용\n",
    "\n",
    "for inp in test_horses.take(1):\n",
    "    generate_images(generator_g, inp)"
   ]
  },
  {
   "attachments": {},
   "cell_type": "markdown",
   "metadata": {},
   "source": [
    "## Testing 결과 재현"
   ]
  },
  {
   "attachments": {},
   "cell_type": "markdown",
   "metadata": {},
   "source": [
    "EPOCHS = 50으로 지정한 상태에서 training 과정을 거친 generator g와 f를 불러옴!"
   ]
  },
  {
   "cell_type": "code",
   "execution_count": null,
   "metadata": {},
   "outputs": [],
   "source": [
    "# 저장되어 있는 generator g와 f를 불러옴\n",
    "\n",
    "generator_g = tf.keras.models.load_model('generator_g.h5')\n",
    "generator_f = tf.keras.models.load_model('generator_f.h5')"
   ]
  },
  {
   "cell_type": "code",
   "execution_count": null,
   "metadata": {},
   "outputs": [],
   "source": [
    "# 말 -> 얼룩말 Testing 결과 재현\n",
    "\n",
    "for inp in test_horses.take(1):\n",
    "    generate_images(generator_g, inp)"
   ]
  },
  {
   "cell_type": "code",
   "execution_count": null,
   "metadata": {},
   "outputs": [],
   "source": [
    "# 얼룩말 -> 말 Testing 결과 재현\n",
    "\n",
    "for inp in test_zebras.take(1):\n",
    "    generate_images(generator_f, inp)"
   ]
  }
 ],
 "metadata": {
  "kernelspec": {
   "display_name": "Youth_AI",
   "language": "python",
   "name": "python3"
  },
  "language_info": {
   "codemirror_mode": {
    "name": "ipython",
    "version": 3
   },
   "file_extension": ".py",
   "mimetype": "text/x-python",
   "name": "python",
   "nbconvert_exporter": "python",
   "pygments_lexer": "ipython3",
   "version": "3.9.16"
  },
  "orig_nbformat": 4
 },
 "nbformat": 4,
 "nbformat_minor": 2
}
