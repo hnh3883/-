{
 "cells": [
  {
   "cell_type": "code",
   "execution_count": 2,
   "id": "864f6a3e",
   "metadata": {},
   "outputs": [],
   "source": [
    "import tensorflow as tf\n",
    "import numpy as np\n",
    "import matplotlib.pyplot as plt\n",
    "import random"
   ]
  },
  {
   "cell_type": "code",
   "execution_count": 4,
   "id": "1bab1dda",
   "metadata": {},
   "outputs": [],
   "source": [
    "# 시드 설정\n",
    "random.seed(1)\n",
    "np.random.seed(1)\n",
    "tf.random.set_seed(1)"
   ]
  },
  {
   "cell_type": "code",
   "execution_count": 5,
   "id": "00054aa0",
   "metadata": {},
   "outputs": [],
   "source": [
    "def plot_graph(X, Y):\n",
    "    fig = plt.figure(figsize=(8,6))\n",
    "    \n",
    "    plt.plot(X, Y)"
   ]
  },
  {
   "cell_type": "code",
   "execution_count": 6,
   "id": "88974f9f",
   "metadata": {},
   "outputs": [
    {
     "name": "stdout",
     "output_type": "stream",
     "text": [
      "(40,)\n",
      "(40,)\n",
      "tf.Tensor(\n",
      "[1.8987797 4.5457516 3.383644  2.1203423 1.7753278 2.018879  3.087808\n",
      " 2.7967396 2.4418437 2.279456  2.3740077 2.284974  2.6516457 2.66353\n",
      " 3.1825757 4.1085954 4.279659  2.9785242 2.6803112 3.3733256 5.903088\n",
      " 4.411979  5.4369044 6.8365564 6.21176   5.0107136 4.735779  4.4627514\n",
      " 4.248066  5.5212245 4.948624  3.7568302 5.164639  4.4573326 6.509138\n",
      " 6.7362537 4.816311  6.173609  5.079377  4.4586973], shape=(40,), dtype=float32)\n",
      "tf.Tensor(\n",
      "[0. 0. 0. 0. 0. 0. 0. 0. 0. 0. 0. 0. 0. 0. 0. 0. 0. 0. 0. 0. 1. 1. 1. 1.\n",
      " 1. 1. 1. 1. 1. 1. 1. 1. 1. 1. 1. 1. 1. 1. 1. 1.], shape=(40,), dtype=float32)\n"
     ]
    },
    {
     "name": "stderr",
     "output_type": "stream",
     "text": [
      "2023-06-16 16:25:04.644889: W tensorflow/core/common_runtime/gpu/gpu_device.cc:1956] Cannot dlopen some GPU libraries. Please make sure the missing libraries mentioned above are installed properly if you would like to use GPU. Follow the guide at https://www.tensorflow.org/install/gpu for how to download and setup the required libraries for your platform.\n",
      "Skipping registering GPU devices...\n"
     ]
    }
   ],
   "source": [
    "x_0 = tf.random.normal([20], 3, 1)\n",
    "y_0 = tf.zeros(20)\n",
    "x_1 = tf.random.normal([20], 5.5, 1)\n",
    "y_1 = tf.ones(20)\n",
    "\n",
    "x = tf.concat([x_0, x_1], 0)\n",
    "y = tf.concat([y_0, y_1], 0)\n",
    "\n",
    "print(x.shape)\n",
    "print(y.shape)\n",
    "print(x)\n",
    "print(y)"
   ]
  },
  {
   "cell_type": "code",
   "execution_count": 9,
   "id": "3eba732d",
   "metadata": {},
   "outputs": [],
   "source": [
    "def cross_entropy(x, y, w, b):\n",
    "    y_pred = tf.sigmoid(x*w + b) #a\n",
    "    return -tf.reduce_sum(y*tf.math.log(y_pred) + (1-y)*(tf.math.log(1-y_pred)))\n",
    "\n",
    "def cal_gradient(x, y, w, b):\n",
    "    b_gradient = 0\n",
    "    w_gradient = 0\n",
    "    N = tf.shape(x)[0]\n",
    "    for i in range(0, N):\n",
    "        x_i = x[i]\n",
    "        y_i = y[i]\n",
    "        y_pred = tf.sigmoid(x_i*w + b)\n",
    "        \n",
    "        dL_df1 = -(y_i - y_pred) / (y_pred*(1 - y_pred))\n",
    "        dL_df2 = y_pred * (1-y_pred)\n",
    "        \n",
    "        b_gradient += dL_df1 * dL_df2 * 1\n",
    "        w_gradient += dL_df1 * dL_df2 * x_i\n",
    "    return [w_gradient, b_gradient]"
   ]
  },
  {
   "cell_type": "code",
   "execution_count": 10,
   "id": "d1ef6620",
   "metadata": {},
   "outputs": [],
   "source": [
    "def apply_gradient(gradients, parameters, learning_rate):\n",
    "    [w_g, b_g] = gradients\n",
    "    [w, b] = parameters\n",
    "    w = w - learning_rate * w_g\n",
    "    b = b - learning_rate * b_g\n",
    "    return [w, b]"
   ]
  },
  {
   "cell_type": "code",
   "execution_count": 11,
   "id": "760bd52e",
   "metadata": {},
   "outputs": [],
   "source": [
    "def run_opt (x, y, w, b, learning_rate):\n",
    "    gradient = cal_gradient(x, y, w, b)\n",
    "    return apply_gradient(gradient, [w, b], learning_rate)"
   ]
  },
  {
   "cell_type": "code",
   "execution_count": 14,
   "id": "a917f853",
   "metadata": {},
   "outputs": [
    {
     "name": "stdout",
     "output_type": "stream",
     "text": [
      "step: 0 , loss: 20.841946 , w: [0.48673934] , b: <bound method _EagerTensorBase.numpy of <tf.Tensor: shape=(1,), dtype=float32, numpy=array([-1.2275169], dtype=float32)>>\n",
      "step: 200 , loss: 12.989342 , w: [1.0218767] , b: <bound method _EagerTensorBase.numpy of <tf.Tensor: shape=(1,), dtype=float32, numpy=array([-3.8363504], dtype=float32)>>\n",
      "step: 400 , loss: 10.74083 , w: [1.3691167] , b: <bound method _EagerTensorBase.numpy of <tf.Tensor: shape=(1,), dtype=float32, numpy=array([-5.2835445], dtype=float32)>>\n",
      "step: 600 , loss: 9.677397 , w: [1.6091256] , b: <bound method _EagerTensorBase.numpy of <tf.Tensor: shape=(1,), dtype=float32, numpy=array([-6.2827034], dtype=float32)>>\n",
      "step: 800 , loss: 9.059598 , w: [1.7920285] , b: <bound method _EagerTensorBase.numpy of <tf.Tensor: shape=(1,), dtype=float32, numpy=array([-7.045497], dtype=float32)>>\n",
      "step: 1000 , loss: 8.656824 , w: [1.9394977] , b: <bound method _EagerTensorBase.numpy of <tf.Tensor: shape=(1,), dtype=float32, numpy=array([-7.661926], dtype=float32)>>\n",
      "step: 1200 , loss: 8.374246 , w: [2.0628083] , b: <bound method _EagerTensorBase.numpy of <tf.Tensor: shape=(1,), dtype=float32, numpy=array([-8.178516], dtype=float32)>>\n"
     ]
    },
    {
     "ename": "KeyboardInterrupt",
     "evalue": "",
     "output_type": "error",
     "traceback": [
      "\u001b[0;31m---------------------------------------------------------------------------\u001b[0m",
      "\u001b[0;31mKeyboardInterrupt\u001b[0m                         Traceback (most recent call last)",
      "Cell \u001b[0;32mIn[14], line 9\u001b[0m\n\u001b[1;32m      6\u001b[0m display_step \u001b[38;5;241m=\u001b[39m \u001b[38;5;241m200\u001b[39m\n\u001b[1;32m      8\u001b[0m \u001b[38;5;28;01mfor\u001b[39;00m step \u001b[38;5;129;01min\u001b[39;00m \u001b[38;5;28mrange\u001b[39m(training_steps):\n\u001b[0;32m----> 9\u001b[0m     [w_new, b_new] \u001b[38;5;241m=\u001b[39m \u001b[43mrun_opt\u001b[49m\u001b[43m(\u001b[49m\u001b[43mx\u001b[49m\u001b[43m,\u001b[49m\u001b[43m \u001b[49m\u001b[43my\u001b[49m\u001b[43m,\u001b[49m\u001b[43m \u001b[49m\u001b[43mw\u001b[49m\u001b[43m,\u001b[49m\u001b[43m \u001b[49m\u001b[43mb\u001b[49m\u001b[43m,\u001b[49m\u001b[43m \u001b[49m\u001b[43mlearning_rate\u001b[49m\u001b[43m)\u001b[49m\n\u001b[1;32m     10\u001b[0m     w \u001b[38;5;241m=\u001b[39m w_new\n\u001b[1;32m     11\u001b[0m     b \u001b[38;5;241m=\u001b[39m b_new\n",
      "Cell \u001b[0;32mIn[11], line 2\u001b[0m, in \u001b[0;36mrun_opt\u001b[0;34m(x, y, w, b, learning_rate)\u001b[0m\n\u001b[1;32m      1\u001b[0m \u001b[38;5;28;01mdef\u001b[39;00m \u001b[38;5;21mrun_opt\u001b[39m (x, y, w, b, learning_rate):\n\u001b[0;32m----> 2\u001b[0m     gradient \u001b[38;5;241m=\u001b[39m \u001b[43mcal_gradient\u001b[49m\u001b[43m(\u001b[49m\u001b[43mx\u001b[49m\u001b[43m,\u001b[49m\u001b[43m \u001b[49m\u001b[43my\u001b[49m\u001b[43m,\u001b[49m\u001b[43m \u001b[49m\u001b[43mw\u001b[49m\u001b[43m,\u001b[49m\u001b[43m \u001b[49m\u001b[43mb\u001b[49m\u001b[43m)\u001b[49m\n\u001b[1;32m      3\u001b[0m     \u001b[38;5;28;01mreturn\u001b[39;00m apply_gradient(gradient, [w, b], learning_rate)\n",
      "Cell \u001b[0;32mIn[9], line 15\u001b[0m, in \u001b[0;36mcal_gradient\u001b[0;34m(x, y, w, b)\u001b[0m\n\u001b[1;32m     12\u001b[0m y_pred \u001b[38;5;241m=\u001b[39m tf\u001b[38;5;241m.\u001b[39msigmoid(x_i\u001b[38;5;241m*\u001b[39mw \u001b[38;5;241m+\u001b[39m b)\n\u001b[1;32m     14\u001b[0m dL_df1 \u001b[38;5;241m=\u001b[39m \u001b[38;5;241m-\u001b[39m(y_i \u001b[38;5;241m-\u001b[39m y_pred) \u001b[38;5;241m/\u001b[39m (y_pred\u001b[38;5;241m*\u001b[39m(\u001b[38;5;241m1\u001b[39m \u001b[38;5;241m-\u001b[39m y_pred))\n\u001b[0;32m---> 15\u001b[0m dL_df2 \u001b[38;5;241m=\u001b[39m y_pred \u001b[38;5;241m*\u001b[39m (\u001b[38;5;241;43m1\u001b[39;49m\u001b[38;5;241;43m-\u001b[39;49m\u001b[43my_pred\u001b[49m)\n\u001b[1;32m     17\u001b[0m b_gradient \u001b[38;5;241m+\u001b[39m\u001b[38;5;241m=\u001b[39m dL_df1 \u001b[38;5;241m*\u001b[39m dL_df2 \u001b[38;5;241m*\u001b[39m \u001b[38;5;241m1\u001b[39m\n\u001b[1;32m     18\u001b[0m w_gradient \u001b[38;5;241m+\u001b[39m\u001b[38;5;241m=\u001b[39m dL_df1 \u001b[38;5;241m*\u001b[39m dL_df2 \u001b[38;5;241m*\u001b[39m x_i\n",
      "File \u001b[0;32m~/anaconda3/envs/ml/lib/python3.9/site-packages/tensorflow/python/util/traceback_utils.py:150\u001b[0m, in \u001b[0;36mfilter_traceback.<locals>.error_handler\u001b[0;34m(*args, **kwargs)\u001b[0m\n\u001b[1;32m    148\u001b[0m filtered_tb \u001b[38;5;241m=\u001b[39m \u001b[38;5;28;01mNone\u001b[39;00m\n\u001b[1;32m    149\u001b[0m \u001b[38;5;28;01mtry\u001b[39;00m:\n\u001b[0;32m--> 150\u001b[0m   \u001b[38;5;28;01mreturn\u001b[39;00m \u001b[43mfn\u001b[49m\u001b[43m(\u001b[49m\u001b[38;5;241;43m*\u001b[39;49m\u001b[43margs\u001b[49m\u001b[43m,\u001b[49m\u001b[43m \u001b[49m\u001b[38;5;241;43m*\u001b[39;49m\u001b[38;5;241;43m*\u001b[39;49m\u001b[43mkwargs\u001b[49m\u001b[43m)\u001b[49m\n\u001b[1;32m    151\u001b[0m \u001b[38;5;28;01mexcept\u001b[39;00m \u001b[38;5;167;01mException\u001b[39;00m \u001b[38;5;28;01mas\u001b[39;00m e:\n\u001b[1;32m    152\u001b[0m   filtered_tb \u001b[38;5;241m=\u001b[39m _process_traceback_frames(e\u001b[38;5;241m.\u001b[39m__traceback__)\n",
      "File \u001b[0;32m~/anaconda3/envs/ml/lib/python3.9/site-packages/tensorflow/python/ops/math_ops.py:1493\u001b[0m, in \u001b[0;36m_OverrideBinaryOperatorHelper.<locals>.r_binary_op_wrapper\u001b[0;34m(y, x)\u001b[0m\n\u001b[1;32m   1488\u001b[0m \u001b[38;5;129m@traceback_utils\u001b[39m\u001b[38;5;241m.\u001b[39mfilter_traceback\n\u001b[1;32m   1489\u001b[0m \u001b[38;5;28;01mdef\u001b[39;00m \u001b[38;5;21mr_binary_op_wrapper\u001b[39m(y, x):\n\u001b[1;32m   1490\u001b[0m   \u001b[38;5;28;01mwith\u001b[39;00m ops\u001b[38;5;241m.\u001b[39mname_scope(\u001b[38;5;28;01mNone\u001b[39;00m, op_name, [x, y]) \u001b[38;5;28;01mas\u001b[39;00m name:\n\u001b[1;32m   1491\u001b[0m     \u001b[38;5;66;03m# TODO(b/178860388): Figure out why binary_op_wrapper and\u001b[39;00m\n\u001b[1;32m   1492\u001b[0m     \u001b[38;5;66;03m#   r_binary_op_wrapper use different force_same_dtype values.\u001b[39;00m\n\u001b[0;32m-> 1493\u001b[0m     y, x \u001b[38;5;241m=\u001b[39m \u001b[43mmaybe_promote_tensors\u001b[49m\u001b[43m(\u001b[49m\u001b[43my\u001b[49m\u001b[43m,\u001b[49m\u001b[43m \u001b[49m\u001b[43mx\u001b[49m\u001b[43m,\u001b[49m\u001b[43m \u001b[49m\u001b[43mforce_same_dtype\u001b[49m\u001b[38;5;241;43m=\u001b[39;49m\u001b[38;5;28;43;01mTrue\u001b[39;49;00m\u001b[43m)\u001b[49m\n\u001b[1;32m   1494\u001b[0m     \u001b[38;5;28;01mreturn\u001b[39;00m func(x, y, name\u001b[38;5;241m=\u001b[39mname)\n",
      "File \u001b[0;32m~/anaconda3/envs/ml/lib/python3.9/site-packages/tensorflow/python/ops/math_ops.py:1426\u001b[0m, in \u001b[0;36mmaybe_promote_tensors\u001b[0;34m(force_same_dtype, *tensors)\u001b[0m\n\u001b[1;32m   1423\u001b[0m   dtype \u001b[38;5;241m=\u001b[39m tensors[\u001b[38;5;241m0\u001b[39m]\u001b[38;5;241m.\u001b[39mdtype\u001b[38;5;241m.\u001b[39mbase_dtype\n\u001b[1;32m   1424\u001b[0m   \u001b[38;5;28;01mfor\u001b[39;00m tensor \u001b[38;5;129;01min\u001b[39;00m tensors[\u001b[38;5;241m1\u001b[39m:]:\n\u001b[1;32m   1425\u001b[0m     promoted_tensors\u001b[38;5;241m.\u001b[39mappend(\n\u001b[0;32m-> 1426\u001b[0m         \u001b[43mops\u001b[49m\u001b[38;5;241;43m.\u001b[39;49m\u001b[43mconvert_to_tensor\u001b[49m\u001b[43m(\u001b[49m\u001b[43mtensor\u001b[49m\u001b[43m,\u001b[49m\u001b[43m \u001b[49m\u001b[43mdtype\u001b[49m\u001b[43m,\u001b[49m\u001b[43m \u001b[49m\u001b[43mname\u001b[49m\u001b[38;5;241;43m=\u001b[39;49m\u001b[38;5;124;43m\"\u001b[39;49m\u001b[38;5;124;43mx\u001b[39;49m\u001b[38;5;124;43m\"\u001b[39;49m\u001b[43m)\u001b[49m)\n\u001b[1;32m   1427\u001b[0m   \u001b[38;5;28;01mreturn\u001b[39;00m promoted_tensors\n\u001b[1;32m   1428\u001b[0m result_type \u001b[38;5;241m=\u001b[39m np_dtypes\u001b[38;5;241m.\u001b[39m_result_type(\n\u001b[1;32m   1429\u001b[0m     \u001b[38;5;241m*\u001b[39m[_maybe_get_dtype(x) \u001b[38;5;28;01mfor\u001b[39;00m x \u001b[38;5;129;01min\u001b[39;00m nest\u001b[38;5;241m.\u001b[39mflatten(tensors)])\n",
      "File \u001b[0;32m~/anaconda3/envs/ml/lib/python3.9/site-packages/tensorflow/python/profiler/trace.py:183\u001b[0m, in \u001b[0;36mtrace_wrapper.<locals>.inner_wrapper.<locals>.wrapped\u001b[0;34m(*args, **kwargs)\u001b[0m\n\u001b[1;32m    181\u001b[0m   \u001b[38;5;28;01mwith\u001b[39;00m Trace(trace_name, \u001b[38;5;241m*\u001b[39m\u001b[38;5;241m*\u001b[39mtrace_kwargs):\n\u001b[1;32m    182\u001b[0m     \u001b[38;5;28;01mreturn\u001b[39;00m func(\u001b[38;5;241m*\u001b[39margs, \u001b[38;5;241m*\u001b[39m\u001b[38;5;241m*\u001b[39mkwargs)\n\u001b[0;32m--> 183\u001b[0m \u001b[38;5;28;01mreturn\u001b[39;00m \u001b[43mfunc\u001b[49m\u001b[43m(\u001b[49m\u001b[38;5;241;43m*\u001b[39;49m\u001b[43margs\u001b[49m\u001b[43m,\u001b[49m\u001b[43m \u001b[49m\u001b[38;5;241;43m*\u001b[39;49m\u001b[38;5;241;43m*\u001b[39;49m\u001b[43mkwargs\u001b[49m\u001b[43m)\u001b[49m\n",
      "\u001b[0;31mKeyboardInterrupt\u001b[0m: "
     ]
    }
   ],
   "source": [
    "w = tf.Variable(tf.random_normal_initializer(stddev=1)([1]))\n",
    "b = tf.Variable(tf.random_normal_initializer(stddev=1)([1]))\n",
    "\n",
    "learning_rate = 0.005\n",
    "training_steps = 2000\n",
    "display_step = 200\n",
    "\n",
    "for step in range(training_steps):\n",
    "    [w_new, b_new] = run_opt(x, y, w, b, learning_rate)\n",
    "    w = w_new\n",
    "    b = b_new\n",
    "    \n",
    "    if step%display_step == 0:\n",
    "        loss = cross_entropy(x, y, w, b)\n",
    "        print(\"step:\", step, \", loss:\", loss.numpy(), \", w:\", w.numpy(), \", b:\" ,b.numpy)"
   ]
  },
  {
   "cell_type": "code",
   "execution_count": 21,
   "id": "e904fbe5",
   "metadata": {},
   "outputs": [],
   "source": [
    "def plot_graph(X, Y, X_hat, Y_hat):\n",
    "    fig = plt.figure(figsize=(8,6))\n",
    "    \n",
    "    plt.plot(X,Y, marker=\"o\")\n",
    "    plt.plot(X_hat,Y_hat)"
   ]
  },
  {
   "cell_type": "code",
   "execution_count": 23,
   "id": "e2857458",
   "metadata": {},
   "outputs": [
    {
     "data": {
      "image/png": "[encoded data removed]",
      "text/plain": [
       "<Figure size 800x600 with 1 Axes>"
      ]
     },
     "metadata": {},
     "output_type": "display_data"
    }
   ],
   "source": [
    "x_fl = np.linspace(np.min(x), np.max(x), 100)\n",
    "plot_graph(x, y, x_fl, tf.sigmoid(w*x_fl+b))"
   ]
  },
  {
   "cell_type": "code",
   "execution_count": 32,
   "id": "6650aca0",
   "metadata": {},
   "outputs": [],
   "source": [
    "#dataset load\n",
    "(x_train, y_train), (x_test, y_test) = tf.keras.datasets.mnist.load_data()\n",
    "x_train, x_test = tf.cast(x_train, tf.float32), tf.cast(x_test, tf.float32) # float32로 데이터 타입 변경(원래는 0~255 int였음)\n",
    "num_classes = 10\n",
    "num_features = x_train.shape[1] * x_train.shape[2] #28*28 = 784\n",
    "\n",
    "# -1은 원래 shape에서 다른 값으로 나눴을 때의 값을 넣어라! 라는 뜻 -> 원래 shape / 784의 값이 들어가겠죠\n",
    "x_train, x_test = tf.reshape(x_train, [-1, num_features]), tf.reshape(x_test, [-1, num_features])\n",
    "x_train, x_test = x_train/255., x_test/255.  # \".\"쓰는 이유는 float형태로 맞춰주려고"
   ]
  },
  {
   "cell_type": "code",
   "execution_count": 33,
   "id": "62108435",
   "metadata": {},
   "outputs": [
    {
     "name": "stdout",
     "output_type": "stream",
     "text": [
      "(60000, 784)\n",
      "(10000, 784)\n"
     ]
    }
   ],
   "source": [
    "print(x_train.shape)\n",
    "print(x_test.shape)"
   ]
  },
  {
   "cell_type": "code",
   "execution_count": 35,
   "id": "f609af64",
   "metadata": {},
   "outputs": [],
   "source": [
    "model = tf.keras.Sequential(\n",
    "    [\n",
    "        tf.keras.layers.Dense(128, activation='relu'),\n",
    "        tf.keras.layers.Dense(256, activation='relu'),\n",
    "        tf.keras.layers.Dense(10) # class 개수\n",
    "    ]\n",
    ")"
   ]
  },
  {
   "cell_type": "code",
   "execution_count": 39,
   "id": "de96d866",
   "metadata": {},
   "outputs": [
    {
     "name": "stdout",
     "output_type": "stream",
     "text": [
      "Epoch 1/40\n",
      "469/469 [==============================] - 3s 6ms/step - loss: 1.2942 - accuracy: 0.6928\n",
      "Epoch 2/40\n",
      "469/469 [==============================] - 3s 6ms/step - loss: 0.5049 - accuracy: 0.8695\n",
      "Epoch 3/40\n",
      "469/469 [==============================] - 3s 6ms/step - loss: 0.3873 - accuracy: 0.8935\n",
      "Epoch 4/40\n",
      "469/469 [==============================] - 3s 6ms/step - loss: 0.3418 - accuracy: 0.9030\n",
      "Epoch 5/40\n",
      "469/469 [==============================] - 3s 6ms/step - loss: 0.3143 - accuracy: 0.9098\n",
      "Epoch 6/40\n",
      "469/469 [==============================] - 3s 6ms/step - loss: 0.2945 - accuracy: 0.9155\n",
      "Epoch 7/40\n",
      "469/469 [==============================] - 3s 6ms/step - loss: 0.2781 - accuracy: 0.9194\n",
      "Epoch 8/40\n",
      "469/469 [==============================] - 3s 6ms/step - loss: 0.2643 - accuracy: 0.9242\n",
      "Epoch 9/40\n",
      "469/469 [==============================] - 3s 6ms/step - loss: 0.2522 - accuracy: 0.9279\n",
      "Epoch 10/40\n",
      "469/469 [==============================] - 3s 6ms/step - loss: 0.2411 - accuracy: 0.9310\n",
      "Epoch 11/40\n",
      "469/469 [==============================] - 3s 6ms/step - loss: 0.2314 - accuracy: 0.9337\n",
      "Epoch 12/40\n",
      "469/469 [==============================] - 3s 6ms/step - loss: 0.2223 - accuracy: 0.9365\n",
      "Epoch 13/40\n",
      "469/469 [==============================] - 3s 6ms/step - loss: 0.2139 - accuracy: 0.9392\n",
      "Epoch 14/40\n",
      "469/469 [==============================] - 3s 6ms/step - loss: 0.2060 - accuracy: 0.9414\n",
      "Epoch 15/40\n",
      "469/469 [==============================] - 3s 6ms/step - loss: 0.1986 - accuracy: 0.9436\n",
      "Epoch 16/40\n",
      "469/469 [==============================] - 3s 6ms/step - loss: 0.1917 - accuracy: 0.9451\n",
      "Epoch 17/40\n",
      "469/469 [==============================] - 3s 6ms/step - loss: 0.1853 - accuracy: 0.9470\n",
      "Epoch 18/40\n",
      "469/469 [==============================] - 3s 6ms/step - loss: 0.1797 - accuracy: 0.9483\n",
      "Epoch 19/40\n",
      "469/469 [==============================] - 3s 6ms/step - loss: 0.1741 - accuracy: 0.9500\n",
      "Epoch 20/40\n",
      "469/469 [==============================] - 3s 6ms/step - loss: 0.1689 - accuracy: 0.9516\n",
      "Epoch 21/40\n",
      "469/469 [==============================] - 3s 6ms/step - loss: 0.1641 - accuracy: 0.9525\n",
      "Epoch 22/40\n",
      "469/469 [==============================] - 3s 6ms/step - loss: 0.1594 - accuracy: 0.9547\n",
      "Epoch 23/40\n",
      "469/469 [==============================] - 3s 6ms/step - loss: 0.1550 - accuracy: 0.9553\n",
      "Epoch 24/40\n",
      "469/469 [==============================] - 3s 6ms/step - loss: 0.1511 - accuracy: 0.9570\n",
      "Epoch 25/40\n",
      "469/469 [==============================] - 3s 6ms/step - loss: 0.1471 - accuracy: 0.9581\n",
      "Epoch 26/40\n",
      "469/469 [==============================] - 3s 6ms/step - loss: 0.1432 - accuracy: 0.9592\n",
      "Epoch 27/40\n",
      "469/469 [==============================] - 3s 6ms/step - loss: 0.1397 - accuracy: 0.9605\n",
      "Epoch 28/40\n",
      "469/469 [==============================] - 3s 6ms/step - loss: 0.1361 - accuracy: 0.9613\n",
      "Epoch 29/40\n",
      "469/469 [==============================] - 3s 6ms/step - loss: 0.1330 - accuracy: 0.9619\n",
      "Epoch 30/40\n",
      "469/469 [==============================] - 3s 6ms/step - loss: 0.1300 - accuracy: 0.9629\n",
      "Epoch 31/40\n",
      "469/469 [==============================] - 3s 6ms/step - loss: 0.1269 - accuracy: 0.9630\n",
      "Epoch 32/40\n",
      "469/469 [==============================] - 3s 6ms/step - loss: 0.1239 - accuracy: 0.9646\n",
      "Epoch 33/40\n",
      "469/469 [==============================] - 3s 6ms/step - loss: 0.1212 - accuracy: 0.9653\n",
      "Epoch 34/40\n",
      "469/469 [==============================] - 3s 6ms/step - loss: 0.1186 - accuracy: 0.9658\n",
      "Epoch 35/40\n",
      "469/469 [==============================] - 3s 6ms/step - loss: 0.1161 - accuracy: 0.9670\n",
      "Epoch 36/40\n",
      "469/469 [==============================] - 3s 6ms/step - loss: 0.1137 - accuracy: 0.9672\n",
      "Epoch 37/40\n",
      "469/469 [==============================] - 3s 6ms/step - loss: 0.1111 - accuracy: 0.9682\n",
      "Epoch 38/40\n",
      "469/469 [==============================] - 3s 6ms/step - loss: 0.1088 - accuracy: 0.9691\n",
      "Epoch 39/40\n",
      "469/469 [==============================] - 3s 6ms/step - loss: 0.1065 - accuracy: 0.9701\n",
      "Epoch 40/40\n",
      "469/469 [==============================] - 3s 6ms/step - loss: 0.1044 - accuracy: 0.9703\n"
     ]
    }
   ],
   "source": [
    "model.compile(optimizer=\"SGD\", loss=tf.keras.losses.SparseCategoricalCrossentropy(from_logits=True), metrics=['accuracy'])\n",
    "\n",
    "# 어떤 optimizer, 어떤 loss, 어떤 metric을 사용해서 학습할 것인지 넣어줌 !!!\n",
    "result = model.fit(x_train, y_train, batch_size=128, epochs=40)"
   ]
  },
  {
   "cell_type": "code",
   "execution_count": 45,
   "id": "8ca95bfb",
   "metadata": {},
   "outputs": [
    {
     "data": {
      "text/plain": [
       "<function matplotlib.pyplot.show(close=None, block=None)>"
      ]
     },
     "execution_count": 45,
     "metadata": {},
     "output_type": "execute_result"
    },
    {
     "data": {
      "image/png": "[encoded data removed]",
      "text/plain": [
       "<Figure size 640x480 with 2 Axes>"
      ]
     },
     "metadata": {},
     "output_type": "display_data"
    }
   ],
   "source": [
    "fig, loss_ax = plt.subplots()\n",
    "acc_ax = loss_ax.twinx()\n",
    "\n",
    "loss_ax.plot(result.history['loss'], 'y', label='train loss')\n",
    "loss_ax.set_xlabel('epoch')\n",
    "loss_ax.set_ylabel('loss')\n",
    "\n",
    "acc_ax.plot(result.history['accuracy'], 'b', label='train acc')\n",
    "plt.show"
   ]
  },
  {
   "cell_type": "code",
   "execution_count": 46,
   "id": "64294ebb",
   "metadata": {},
   "outputs": [
    {
     "name": "stdout",
     "output_type": "stream",
     "text": [
      "313/313 [==============================] - 1s 3ms/step - loss: 0.1153 - accuracy: 0.9658\n",
      "0.11529023200273514\n",
      "0.9657999873161316\n"
     ]
    }
   ],
   "source": [
    "test_loss, test_acc = model.evaluate(x_test, y_test)\n",
    "print(test_loss)\n",
    "print(test_acc)"
   ]
  },
  {
   "cell_type": "code",
   "execution_count": null,
   "id": "1c941eb3",
   "metadata": {},
   "outputs": [],
   "source": []
  }
 ],
 "metadata": {
  "kernelspec": {
   "display_name": "Python 3 (ipykernel)",
   "language": "python",
   "name": "python3"
  },
  "language_info": {
   "codemirror_mode": {
    "name": "ipython",
    "version": 3
   },
   "file_extension": ".py",
   "mimetype": "text/x-python",
   "name": "python",
   "nbconvert_exporter": "python",
   "pygments_lexer": "ipython3",
   "version": "3.9.16"
  }
 },
 "nbformat": 4,
 "nbformat_minor": 5
}
